{
 "cells": [
  {
   "cell_type": "markdown",
   "metadata": {},
   "source": [
    "# IMDB Datasets"
   ]
  },
  {
   "cell_type": "markdown",
   "metadata": {},
   "source": [
    "## MLP"
   ]
  },
  {
   "cell_type": "code",
   "execution_count": 1,
   "metadata": {},
   "outputs": [],
   "source": [
    "import numpy as np\n",
    "from tensorflow import keras\n",
    "from keras import models , layers\n",
    "import pandas as pd\n",
    "import matplotlib.pyplot as plt\n",
    "from keras.preprocessing import sequence\n",
    "from keras.layers import LSTM\n",
    "from keras.datasets import imdb"
   ]
  },
  {
   "cell_type": "code",
   "execution_count": 2,
   "metadata": {
    "scrolled": false
   },
   "outputs": [
    {
     "name": "stderr",
     "output_type": "stream",
     "text": [
      "<__array_function__ internals>:5: VisibleDeprecationWarning: Creating an ndarray from ragged nested sequences (which is a list-or-tuple of lists-or-tuples-or ndarrays with different lengths or shapes) is deprecated. If you meant to do this, you must specify 'dtype=object' when creating the ndarray\n",
      "/Users/hyeonhochoi/opt/anaconda3/lib/python3.8/site-packages/tensorflow/python/keras/datasets/imdb.py:159: VisibleDeprecationWarning: Creating an ndarray from ragged nested sequences (which is a list-or-tuple of lists-or-tuples-or ndarrays with different lengths or shapes) is deprecated. If you meant to do this, you must specify 'dtype=object' when creating the ndarray\n",
      "  x_train, y_train = np.array(xs[:idx]), np.array(labels[:idx])\n",
      "/Users/hyeonhochoi/opt/anaconda3/lib/python3.8/site-packages/tensorflow/python/keras/datasets/imdb.py:160: VisibleDeprecationWarning: Creating an ndarray from ragged nested sequences (which is a list-or-tuple of lists-or-tuples-or ndarrays with different lengths or shapes) is deprecated. If you meant to do this, you must specify 'dtype=object' when creating the ndarray\n",
      "  x_test, y_test = np.array(xs[idx:]), np.array(labels[idx:])\n"
     ]
    }
   ],
   "source": [
    "(X_train, y_train), (X_test, y_test) = imdb.load_data(num_words = 10000) # 등장 빈도 상위 10000번째 까지의 단어 불러오기"
   ]
  },
  {
   "cell_type": "code",
   "execution_count": 3,
   "metadata": {
    "scrolled": true
   },
   "outputs": [
    {
     "data": {
      "text/plain": [
       "((25000,), (25000,))"
      ]
     },
     "execution_count": 3,
     "metadata": {},
     "output_type": "execute_result"
    }
   ],
   "source": [
    "X_train.shape, y_train.shape"
   ]
  },
  {
   "cell_type": "code",
   "execution_count": 4,
   "metadata": {},
   "outputs": [
    {
     "data": {
      "text/plain": [
       "[1,\n",
       " 14,\n",
       " 22,\n",
       " 16,\n",
       " 43,\n",
       " 530,\n",
       " 973,\n",
       " 1622,\n",
       " 1385,\n",
       " 65,\n",
       " 458,\n",
       " 4468,\n",
       " 66,\n",
       " 3941,\n",
       " 4,\n",
       " 173,\n",
       " 36,\n",
       " 256,\n",
       " 5,\n",
       " 25,\n",
       " 100,\n",
       " 43,\n",
       " 838,\n",
       " 112,\n",
       " 50,\n",
       " 670,\n",
       " 2,\n",
       " 9,\n",
       " 35,\n",
       " 480,\n",
       " 284,\n",
       " 5,\n",
       " 150,\n",
       " 4,\n",
       " 172,\n",
       " 112,\n",
       " 167,\n",
       " 2,\n",
       " 336,\n",
       " 385,\n",
       " 39,\n",
       " 4,\n",
       " 172,\n",
       " 4536,\n",
       " 1111,\n",
       " 17,\n",
       " 546,\n",
       " 38,\n",
       " 13,\n",
       " 447,\n",
       " 4,\n",
       " 192,\n",
       " 50,\n",
       " 16,\n",
       " 6,\n",
       " 147,\n",
       " 2025,\n",
       " 19,\n",
       " 14,\n",
       " 22,\n",
       " 4,\n",
       " 1920,\n",
       " 4613,\n",
       " 469,\n",
       " 4,\n",
       " 22,\n",
       " 71,\n",
       " 87,\n",
       " 12,\n",
       " 16,\n",
       " 43,\n",
       " 530,\n",
       " 38,\n",
       " 76,\n",
       " 15,\n",
       " 13,\n",
       " 1247,\n",
       " 4,\n",
       " 22,\n",
       " 17,\n",
       " 515,\n",
       " 17,\n",
       " 12,\n",
       " 16,\n",
       " 626,\n",
       " 18,\n",
       " 2,\n",
       " 5,\n",
       " 62,\n",
       " 386,\n",
       " 12,\n",
       " 8,\n",
       " 316,\n",
       " 8,\n",
       " 106,\n",
       " 5,\n",
       " 4,\n",
       " 2223,\n",
       " 5244,\n",
       " 16,\n",
       " 480,\n",
       " 66,\n",
       " 3785,\n",
       " 33,\n",
       " 4,\n",
       " 130,\n",
       " 12,\n",
       " 16,\n",
       " 38,\n",
       " 619,\n",
       " 5,\n",
       " 25,\n",
       " 124,\n",
       " 51,\n",
       " 36,\n",
       " 135,\n",
       " 48,\n",
       " 25,\n",
       " 1415,\n",
       " 33,\n",
       " 6,\n",
       " 22,\n",
       " 12,\n",
       " 215,\n",
       " 28,\n",
       " 77,\n",
       " 52,\n",
       " 5,\n",
       " 14,\n",
       " 407,\n",
       " 16,\n",
       " 82,\n",
       " 2,\n",
       " 8,\n",
       " 4,\n",
       " 107,\n",
       " 117,\n",
       " 5952,\n",
       " 15,\n",
       " 256,\n",
       " 4,\n",
       " 2,\n",
       " 7,\n",
       " 3766,\n",
       " 5,\n",
       " 723,\n",
       " 36,\n",
       " 71,\n",
       " 43,\n",
       " 530,\n",
       " 476,\n",
       " 26,\n",
       " 400,\n",
       " 317,\n",
       " 46,\n",
       " 7,\n",
       " 4,\n",
       " 2,\n",
       " 1029,\n",
       " 13,\n",
       " 104,\n",
       " 88,\n",
       " 4,\n",
       " 381,\n",
       " 15,\n",
       " 297,\n",
       " 98,\n",
       " 32,\n",
       " 2071,\n",
       " 56,\n",
       " 26,\n",
       " 141,\n",
       " 6,\n",
       " 194,\n",
       " 7486,\n",
       " 18,\n",
       " 4,\n",
       " 226,\n",
       " 22,\n",
       " 21,\n",
       " 134,\n",
       " 476,\n",
       " 26,\n",
       " 480,\n",
       " 5,\n",
       " 144,\n",
       " 30,\n",
       " 5535,\n",
       " 18,\n",
       " 51,\n",
       " 36,\n",
       " 28,\n",
       " 224,\n",
       " 92,\n",
       " 25,\n",
       " 104,\n",
       " 4,\n",
       " 226,\n",
       " 65,\n",
       " 16,\n",
       " 38,\n",
       " 1334,\n",
       " 88,\n",
       " 12,\n",
       " 16,\n",
       " 283,\n",
       " 5,\n",
       " 16,\n",
       " 4472,\n",
       " 113,\n",
       " 103,\n",
       " 32,\n",
       " 15,\n",
       " 16,\n",
       " 5345,\n",
       " 19,\n",
       " 178,\n",
       " 32]"
      ]
     },
     "execution_count": 4,
     "metadata": {},
     "output_type": "execute_result"
    }
   ],
   "source": [
    "X_train[0]"
   ]
  },
  {
   "cell_type": "markdown",
   "metadata": {},
   "source": [
    "##### Data Processing"
   ]
  },
  {
   "cell_type": "markdown",
   "metadata": {},
   "source": [
    "빈도 상위 10000번째까지의 데이터를 불러왔으므로, 데이터는 1~10000의 숫자로 표현될 것이다.  \n",
    "\n",
    "따라서, 데이터 분석을 위해 (25000,)의 데이터를 (25000,10000) 데이터의 형태로 바꿔서 각 리뷰에 단어의 포함 유무를 나타낸다."
   ]
  },
  {
   "cell_type": "code",
   "execution_count": 5,
   "metadata": {},
   "outputs": [],
   "source": [
    "def vect(seq, dim=10000):\n",
    "    x=np.zeros((len(seq),dim))\n",
    "    for n, i in enumerate(seq):\n",
    "        x[n, i] = 1\n",
    "    return x\n",
    "\n",
    "X_train=vect(X_train)\n",
    "X_test=vect(X_test)"
   ]
  },
  {
   "cell_type": "markdown",
   "metadata": {},
   "source": [
    "상위 i번째 빈도의 단어를 포함하고 있으면 데이터의 i행은 1, 없으면 0으로 변환되었다."
   ]
  },
  {
   "cell_type": "code",
   "execution_count": 6,
   "metadata": {},
   "outputs": [
    {
     "data": {
      "text/plain": [
       "array([0., 1., 1., ..., 0., 0., 0.])"
      ]
     },
     "execution_count": 6,
     "metadata": {},
     "output_type": "execute_result"
    }
   ],
   "source": [
    "X_train[0]"
   ]
  },
  {
   "cell_type": "markdown",
   "metadata": {},
   "source": [
    "검증 데이터와 트레이닝 데이터 분리(20%)"
   ]
  },
  {
   "cell_type": "code",
   "execution_count": 7,
   "metadata": {},
   "outputs": [],
   "source": [
    "X_val = X_train[:5000]\n",
    "partial_X_train = X_train[5000:]\n",
    "\n",
    "y_val = y_train[:5000]\n",
    "partial_y_train = y_train[5000:]"
   ]
  },
  {
   "cell_type": "markdown",
   "metadata": {},
   "source": [
    "##### Modeling"
   ]
  },
  {
   "cell_type": "code",
   "execution_count": 8,
   "metadata": {},
   "outputs": [],
   "source": [
    "net = models.Sequential()\n",
    "net.add(layers.Dense(32, activation='relu', input_shape=(10000,)))\n",
    "net.add(layers.Dropout(0.7))\n",
    "net.add(layers.Dense(16, activation='relu'))\n",
    "net.add(layers.Dropout(0.7))\n",
    "net.add(layers.Dense(1, activation='sigmoid'))\n",
    "net.compile(optimizer='nadam', loss='binary_crossentropy', metrics = ['acc'])"
   ]
  },
  {
   "cell_type": "code",
   "execution_count": 9,
   "metadata": {
    "scrolled": true
   },
   "outputs": [
    {
     "name": "stdout",
     "output_type": "stream",
     "text": [
      "Model: \"sequential\"\n",
      "_________________________________________________________________\n",
      "Layer (type)                 Output Shape              Param #   \n",
      "=================================================================\n",
      "dense (Dense)                (None, 32)                320032    \n",
      "_________________________________________________________________\n",
      "dropout (Dropout)            (None, 32)                0         \n",
      "_________________________________________________________________\n",
      "dense_1 (Dense)              (None, 16)                528       \n",
      "_________________________________________________________________\n",
      "dropout_1 (Dropout)          (None, 16)                0         \n",
      "_________________________________________________________________\n",
      "dense_2 (Dense)              (None, 1)                 17        \n",
      "=================================================================\n",
      "Total params: 320,577\n",
      "Trainable params: 320,577\n",
      "Non-trainable params: 0\n",
      "_________________________________________________________________\n"
     ]
    }
   ],
   "source": [
    "net.summary()"
   ]
  },
  {
   "cell_type": "code",
   "execution_count": 10,
   "metadata": {},
   "outputs": [
    {
     "name": "stdout",
     "output_type": "stream",
     "text": [
      "Epoch 1/10\n",
      "157/157 [==============================] - 2s 8ms/step - loss: 0.6751 - acc: 0.5536 - val_loss: 0.4495 - val_acc: 0.8620\n",
      "Epoch 2/10\n",
      "157/157 [==============================] - 1s 4ms/step - loss: 0.4953 - acc: 0.7514 - val_loss: 0.3120 - val_acc: 0.8868\n",
      "Epoch 3/10\n",
      "157/157 [==============================] - 1s 4ms/step - loss: 0.3960 - acc: 0.8225 - val_loss: 0.2900 - val_acc: 0.8872\n",
      "Epoch 4/10\n",
      "157/157 [==============================] - 1s 4ms/step - loss: 0.3472 - acc: 0.8514 - val_loss: 0.2768 - val_acc: 0.8886\n",
      "Epoch 5/10\n",
      "157/157 [==============================] - 1s 4ms/step - loss: 0.3144 - acc: 0.8670 - val_loss: 0.2779 - val_acc: 0.8886\n",
      "Epoch 6/10\n",
      "157/157 [==============================] - 1s 4ms/step - loss: 0.2839 - acc: 0.8745 - val_loss: 0.2810 - val_acc: 0.8940\n",
      "Epoch 7/10\n",
      "157/157 [==============================] - 1s 4ms/step - loss: 0.2734 - acc: 0.8815 - val_loss: 0.2898 - val_acc: 0.8930\n",
      "Epoch 8/10\n",
      "157/157 [==============================] - 1s 4ms/step - loss: 0.2518 - acc: 0.8834 - val_loss: 0.3003 - val_acc: 0.8888\n",
      "Epoch 9/10\n",
      "157/157 [==============================] - 1s 4ms/step - loss: 0.2452 - acc: 0.8915 - val_loss: 0.2980 - val_acc: 0.8866\n",
      "Epoch 10/10\n",
      "157/157 [==============================] - 1s 4ms/step - loss: 0.2360 - acc: 0.8901 - val_loss: 0.3217 - val_acc: 0.8904\n"
     ]
    }
   ],
   "source": [
    "net_val = net.fit(partial_X_train, partial_y_train, epochs=10, batch_size=128, validation_data= (X_val,y_val))"
   ]
  },
  {
   "cell_type": "code",
   "execution_count": 11,
   "metadata": {
    "scrolled": true
   },
   "outputs": [
    {
     "data": {
      "text/plain": [
       "<matplotlib.legend.Legend at 0x7fc393c01820>"
      ]
     },
     "execution_count": 11,
     "metadata": {},
     "output_type": "execute_result"
    },
    {
     "data": {
      "image/png": "[encoded data removed]",
      "text/plain": [
       "<Figure size 432x288 with 1 Axes>"
      ]
     },
     "metadata": {
      "needs_background": "light"
     },
     "output_type": "display_data"
    }
   ],
   "source": [
    "net_dict = net_val.history\n",
    "net_accuracy = net_dict['acc']\n",
    "net_val_accuracy = net_dict['val_acc']\n",
    "x = np.arange(0,len(net_accuracy))\n",
    "\n",
    "plt.plot(x,net_accuracy,'ro', label = 'training acc')\n",
    "plt.plot(x,net_val_accuracy,'o', label = 'validation acc')\n",
    "plt.title('Training and validation accuracy')\n",
    "plt.legend()"
   ]
  },
  {
   "cell_type": "markdown",
   "metadata": {},
   "source": [
    "##### 그래프 1. MLP에서 Training과 Validation 데이터의 Iteration(x축)에 따른 정확도 변화"
   ]
  },
  {
   "cell_type": "markdown",
   "metadata": {},
   "source": [
    "## RNN "
   ]
  },
  {
   "cell_type": "code",
   "execution_count": 12,
   "metadata": {
    "scrolled": true
   },
   "outputs": [
    {
     "name": "stderr",
     "output_type": "stream",
     "text": [
      "<__array_function__ internals>:5: VisibleDeprecationWarning: Creating an ndarray from ragged nested sequences (which is a list-or-tuple of lists-or-tuples-or ndarrays with different lengths or shapes) is deprecated. If you meant to do this, you must specify 'dtype=object' when creating the ndarray\n",
      "/Users/hyeonhochoi/opt/anaconda3/lib/python3.8/site-packages/tensorflow/python/keras/datasets/imdb.py:159: VisibleDeprecationWarning: Creating an ndarray from ragged nested sequences (which is a list-or-tuple of lists-or-tuples-or ndarrays with different lengths or shapes) is deprecated. If you meant to do this, you must specify 'dtype=object' when creating the ndarray\n",
      "  x_train, y_train = np.array(xs[:idx]), np.array(labels[:idx])\n",
      "/Users/hyeonhochoi/opt/anaconda3/lib/python3.8/site-packages/tensorflow/python/keras/datasets/imdb.py:160: VisibleDeprecationWarning: Creating an ndarray from ragged nested sequences (which is a list-or-tuple of lists-or-tuples-or ndarrays with different lengths or shapes) is deprecated. If you meant to do this, you must specify 'dtype=object' when creating the ndarray\n",
      "  x_test, y_test = np.array(xs[idx:]), np.array(labels[idx:])\n"
     ]
    }
   ],
   "source": [
    "(X1_train, y1_train), (X1_test, y1_test) = imdb.load_data(num_words=10000)"
   ]
  },
  {
   "cell_type": "code",
   "execution_count": 13,
   "metadata": {
    "scrolled": false
   },
   "outputs": [
    {
     "data": {
      "text/plain": [
       "((25000,), (25000,))"
      ]
     },
     "execution_count": 13,
     "metadata": {},
     "output_type": "execute_result"
    }
   ],
   "source": [
    "X1_train.shape, y1_train.shape"
   ]
  },
  {
   "cell_type": "markdown",
   "metadata": {},
   "source": [
    "##### Data Processing"
   ]
  },
  {
   "cell_type": "markdown",
   "metadata": {},
   "source": [
    "RNN 분석을 위해 각 리뷰의 단어 수를 일정하게 조절한다. 단어 수가 300개를 넘으면 자르고, 300개 이하면 남는 부분을 0으로 채워 (25000,)의 형태를 (25000,300)으로 변환"
   ]
  },
  {
   "cell_type": "code",
   "execution_count": 14,
   "metadata": {},
   "outputs": [],
   "source": [
    "maxlen = 300 # sequence length\n",
    "X1_train = sequence.pad_sequences(X1_train, maxlen=maxlen)\n",
    "X1_test = sequence.pad_sequences(X1_test, maxlen=maxlen)"
   ]
  },
  {
   "cell_type": "code",
   "execution_count": 15,
   "metadata": {},
   "outputs": [
    {
     "data": {
      "text/plain": [
       "array([   0,    0,    0,    0,    0,    0,    0,    0,    0,    0,    0,\n",
       "          0,    0,    0,    0,    0,    0,    0,    0,    0,    0,    0,\n",
       "          0,    0,    0,    0,    0,    0,    0,    0,    0,    0,    0,\n",
       "          0,    0,    0,    0,    0,    0,    0,    0,    0,    0,    0,\n",
       "          0,    0,    0,    0,    0,    0,    0,    0,    0,    0,    0,\n",
       "          0,    0,    0,    0,    0,    0,    0,    0,    0,    0,    0,\n",
       "          0,    0,    0,    0,    0,    0,    0,    0,    0,    0,    0,\n",
       "          0,    0,    0,    0,    0,    1,   14,   22,   16,   43,  530,\n",
       "        973, 1622, 1385,   65,  458, 4468,   66, 3941,    4,  173,   36,\n",
       "        256,    5,   25,  100,   43,  838,  112,   50,  670,    2,    9,\n",
       "         35,  480,  284,    5,  150,    4,  172,  112,  167,    2,  336,\n",
       "        385,   39,    4,  172, 4536, 1111,   17,  546,   38,   13,  447,\n",
       "          4,  192,   50,   16,    6,  147, 2025,   19,   14,   22,    4,\n",
       "       1920, 4613,  469,    4,   22,   71,   87,   12,   16,   43,  530,\n",
       "         38,   76,   15,   13, 1247,    4,   22,   17,  515,   17,   12,\n",
       "         16,  626,   18,    2,    5,   62,  386,   12,    8,  316,    8,\n",
       "        106,    5,    4, 2223, 5244,   16,  480,   66, 3785,   33,    4,\n",
       "        130,   12,   16,   38,  619,    5,   25,  124,   51,   36,  135,\n",
       "         48,   25, 1415,   33,    6,   22,   12,  215,   28,   77,   52,\n",
       "          5,   14,  407,   16,   82,    2,    8,    4,  107,  117, 5952,\n",
       "         15,  256,    4,    2,    7, 3766,    5,  723,   36,   71,   43,\n",
       "        530,  476,   26,  400,  317,   46,    7,    4,    2, 1029,   13,\n",
       "        104,   88,    4,  381,   15,  297,   98,   32, 2071,   56,   26,\n",
       "        141,    6,  194, 7486,   18,    4,  226,   22,   21,  134,  476,\n",
       "         26,  480,    5,  144,   30, 5535,   18,   51,   36,   28,  224,\n",
       "         92,   25,  104,    4,  226,   65,   16,   38, 1334,   88,   12,\n",
       "         16,  283,    5,   16, 4472,  113,  103,   32,   15,   16, 5345,\n",
       "         19,  178,   32], dtype=int32)"
      ]
     },
     "execution_count": 15,
     "metadata": {},
     "output_type": "execute_result"
    }
   ],
   "source": [
    "X1_train[0]"
   ]
  },
  {
   "cell_type": "code",
   "execution_count": 16,
   "metadata": {
    "scrolled": true
   },
   "outputs": [
    {
     "data": {
      "text/plain": [
       "(25000, 300)"
      ]
     },
     "execution_count": 16,
     "metadata": {},
     "output_type": "execute_result"
    }
   ],
   "source": [
    "X1_train.shape"
   ]
  },
  {
   "cell_type": "markdown",
   "metadata": {},
   "source": [
    "##### Modeling"
   ]
  },
  {
   "cell_type": "code",
   "execution_count": 17,
   "metadata": {},
   "outputs": [],
   "source": [
    "rnn = models.Sequential()\n",
    "rnn.add(layers.Embedding(10000,16)) \n",
    "rnn.add(layers.SimpleRNN(32,return_sequences='True')) \n",
    "rnn.add(layers.SimpleRNN(32)) # 마지막 RNN을 제외한 나머지 RNN에는 return_sequences = 'True'\n",
    "rnn.add(layers.Dense(1, activation = 'sigmoid'))\n",
    "rnn.compile(optimizer = 'nadam', loss = 'binary_crossentropy',metrics = ['acc'])"
   ]
  },
  {
   "cell_type": "code",
   "execution_count": 18,
   "metadata": {
    "scrolled": true
   },
   "outputs": [
    {
     "name": "stdout",
     "output_type": "stream",
     "text": [
      "Model: \"sequential_1\"\n",
      "_________________________________________________________________\n",
      "Layer (type)                 Output Shape              Param #   \n",
      "=================================================================\n",
      "embedding (Embedding)        (None, None, 16)          160000    \n",
      "_________________________________________________________________\n",
      "simple_rnn (SimpleRNN)       (None, None, 32)          1568      \n",
      "_________________________________________________________________\n",
      "simple_rnn_1 (SimpleRNN)     (None, 32)                2080      \n",
      "_________________________________________________________________\n",
      "dense_3 (Dense)              (None, 1)                 33        \n",
      "=================================================================\n",
      "Total params: 163,681\n",
      "Trainable params: 163,681\n",
      "Non-trainable params: 0\n",
      "_________________________________________________________________\n"
     ]
    }
   ],
   "source": [
    "rnn.summary()"
   ]
  },
  {
   "cell_type": "code",
   "execution_count": 19,
   "metadata": {},
   "outputs": [
    {
     "name": "stdout",
     "output_type": "stream",
     "text": [
      "Epoch 1/10\n",
      "157/157 [==============================] - 15s 89ms/step - loss: 0.6851 - acc: 0.5452 - val_loss: 0.5744 - val_acc: 0.7186\n",
      "Epoch 2/10\n",
      "157/157 [==============================] - 13s 84ms/step - loss: 0.4642 - acc: 0.7856 - val_loss: 0.4595 - val_acc: 0.7878\n",
      "Epoch 3/10\n",
      "157/157 [==============================] - 13s 83ms/step - loss: 0.3305 - acc: 0.8606 - val_loss: 0.3832 - val_acc: 0.8388\n",
      "Epoch 4/10\n",
      "157/157 [==============================] - 13s 83ms/step - loss: 0.2398 - acc: 0.9132 - val_loss: 0.4235 - val_acc: 0.8168\n",
      "Epoch 5/10\n",
      "157/157 [==============================] - 13s 83ms/step - loss: 0.1779 - acc: 0.9374 - val_loss: 0.4262 - val_acc: 0.8196\n",
      "Epoch 6/10\n",
      "157/157 [==============================] - 13s 84ms/step - loss: 0.1323 - acc: 0.9556 - val_loss: 0.4676 - val_acc: 0.8470\n",
      "Epoch 7/10\n",
      "157/157 [==============================] - 13s 84ms/step - loss: 0.0694 - acc: 0.9811 - val_loss: 0.5067 - val_acc: 0.8334\n",
      "Epoch 8/10\n",
      "157/157 [==============================] - 13s 86ms/step - loss: 0.0321 - acc: 0.9927 - val_loss: 0.5802 - val_acc: 0.8378\n",
      "Epoch 9/10\n",
      "157/157 [==============================] - 14s 87ms/step - loss: 0.0275 - acc: 0.9932 - val_loss: 0.5619 - val_acc: 0.8200\n",
      "Epoch 10/10\n",
      "157/157 [==============================] - 13s 84ms/step - loss: 0.0358 - acc: 0.9902 - val_loss: 0.6178 - val_acc: 0.8360\n"
     ]
    }
   ],
   "source": [
    "rnn_val=rnn.fit(X1_train,y1_train,epochs=10,verbose=1,batch_size =128,validation_split=0.2)"
   ]
  },
  {
   "cell_type": "code",
   "execution_count": 21,
   "metadata": {},
   "outputs": [
    {
     "data": {
      "text/plain": [
       "<matplotlib.legend.Legend at 0x7fc3944f2a30>"
      ]
     },
     "execution_count": 21,
     "metadata": {},
     "output_type": "execute_result"
    },
    {
     "data": {
      "image/png": "[encoded data removed]",
      "text/plain": [
       "<Figure size 432x288 with 1 Axes>"
      ]
     },
     "metadata": {
      "needs_background": "light"
     },
     "output_type": "display_data"
    }
   ],
   "source": [
    "rnn_dict = rnn_val.history\n",
    "rnn_accuracy = rnn_dict['acc']\n",
    "rnn_val_accuracy = rnn_dict['val_acc']\n",
    "x = np.arange(0,len(rnn_accuracy))\n",
    "\n",
    "plt.plot(x,rnn_accuracy,'ro', label = 'training acc')\n",
    "plt.plot(x,rnn_val_accuracy,'o', label = 'validation acc')\n",
    "plt.title('Training and validation accuracy')\n",
    "plt.legend()"
   ]
  },
  {
   "cell_type": "markdown",
   "metadata": {},
   "source": [
    "##### 그래프 2. RNN에서 Training과 Validation 데이터의 Iteration(x축)에 따른 정확도 변화"
   ]
  },
  {
   "cell_type": "markdown",
   "metadata": {},
   "source": [
    "##### Overfitting을 확인할 수 있음. 이를 해결하기 위해서 Dropout을 적용한다."
   ]
  },
  {
   "cell_type": "code",
   "execution_count": 22,
   "metadata": {},
   "outputs": [],
   "source": [
    "rnnD = models.Sequential() # Dropout을 적용한 모델\n",
    "rnnD.add(layers.Embedding(10000,16)) \n",
    "rnnD.add(layers.SimpleRNN(32,return_sequences='True')) \n",
    "rnnD.add(layers.Dropout(0.5)) \n",
    "rnnD.add(layers.SimpleRNN(32)) # 마지막 RNN을 제외한 나머지 RNN에는 return_sequences = 'True'\n",
    "rnnD.add(layers.Dropout(0.5))\n",
    "rnnD.add(layers.Dense(1, activation = 'sigmoid'))\n",
    "rnnD.compile(optimizer = 'nadam', loss = 'binary_crossentropy',metrics = ['acc'])"
   ]
  },
  {
   "cell_type": "code",
   "execution_count": 23,
   "metadata": {
    "scrolled": false
   },
   "outputs": [
    {
     "name": "stdout",
     "output_type": "stream",
     "text": [
      "Model: \"sequential_2\"\n",
      "_________________________________________________________________\n",
      "Layer (type)                 Output Shape              Param #   \n",
      "=================================================================\n",
      "embedding_1 (Embedding)      (None, None, 16)          160000    \n",
      "_________________________________________________________________\n",
      "simple_rnn_2 (SimpleRNN)     (None, None, 32)          1568      \n",
      "_________________________________________________________________\n",
      "dropout_2 (Dropout)          (None, None, 32)          0         \n",
      "_________________________________________________________________\n",
      "simple_rnn_3 (SimpleRNN)     (None, 32)                2080      \n",
      "_________________________________________________________________\n",
      "dropout_3 (Dropout)          (None, 32)                0         \n",
      "_________________________________________________________________\n",
      "dense_4 (Dense)              (None, 1)                 33        \n",
      "=================================================================\n",
      "Total params: 163,681\n",
      "Trainable params: 163,681\n",
      "Non-trainable params: 0\n",
      "_________________________________________________________________\n"
     ]
    }
   ],
   "source": [
    "rnnD.summary()"
   ]
  },
  {
   "cell_type": "code",
   "execution_count": 24,
   "metadata": {},
   "outputs": [
    {
     "name": "stdout",
     "output_type": "stream",
     "text": [
      "Epoch 1/10\n",
      "157/157 [==============================] - 16s 94ms/step - loss: 0.7303 - acc: 0.5030 - val_loss: 0.8457 - val_acc: 0.4940\n",
      "Epoch 2/10\n",
      "157/157 [==============================] - 14s 91ms/step - loss: 0.5908 - acc: 0.6948 - val_loss: 0.4673 - val_acc: 0.7852\n",
      "Epoch 3/10\n",
      "157/157 [==============================] - 14s 90ms/step - loss: 0.3869 - acc: 0.8427 - val_loss: 0.3748 - val_acc: 0.8404\n",
      "Epoch 4/10\n",
      "157/157 [==============================] - 14s 89ms/step - loss: 0.2799 - acc: 0.8977 - val_loss: 0.9539 - val_acc: 0.6692\n",
      "Epoch 5/10\n",
      "157/157 [==============================] - 14s 88ms/step - loss: 0.3045 - acc: 0.8844 - val_loss: 0.3875 - val_acc: 0.8532\n",
      "Epoch 6/10\n",
      "157/157 [==============================] - 14s 89ms/step - loss: 0.2036 - acc: 0.9317 - val_loss: 0.4192 - val_acc: 0.8506\n",
      "Epoch 7/10\n",
      "157/157 [==============================] - 14s 89ms/step - loss: 0.1656 - acc: 0.9453 - val_loss: 0.4653 - val_acc: 0.8036\n",
      "Epoch 8/10\n",
      "157/157 [==============================] - 14s 89ms/step - loss: 0.1282 - acc: 0.9600 - val_loss: 0.5003 - val_acc: 0.8464\n",
      "Epoch 9/10\n",
      "157/157 [==============================] - 14s 92ms/step - loss: 0.0871 - acc: 0.9750 - val_loss: 0.5444 - val_acc: 0.8418\n",
      "Epoch 10/10\n",
      "157/157 [==============================] - 14s 92ms/step - loss: 0.0757 - acc: 0.9780 - val_loss: 0.7838 - val_acc: 0.7718\n"
     ]
    }
   ],
   "source": [
    "rnnD_val=rnnD.fit(X1_train,y1_train,epochs=10,verbose=1,batch_size =128,validation_split=0.2)"
   ]
  },
  {
   "cell_type": "code",
   "execution_count": 25,
   "metadata": {
    "scrolled": true
   },
   "outputs": [
    {
     "data": {
      "text/plain": [
       "<matplotlib.legend.Legend at 0x7fc2421b2a90>"
      ]
     },
     "execution_count": 25,
     "metadata": {},
     "output_type": "execute_result"
    },
    {
     "data": {
      "image/png": "[encoded data removed]",
      "text/plain": [
       "<Figure size 432x288 with 1 Axes>"
      ]
     },
     "metadata": {
      "needs_background": "light"
     },
     "output_type": "display_data"
    }
   ],
   "source": [
    "rnnD_dict = rnnD_val.history\n",
    "rnnD_accuracy = rnnD_dict['acc']\n",
    "rnnD_val_accuracy = rnnD_dict['val_acc']\n",
    "x = np.arange(0,len(rnnD_accuracy))\n",
    "\n",
    "plt.plot(x,rnnD_accuracy,'ro', label = 'training acc')\n",
    "plt.plot(x,rnnD_val_accuracy,'o', label = 'validation acc')\n",
    "plt.title('Training and validation accuracy')\n",
    "plt.legend()"
   ]
  },
  {
   "cell_type": "markdown",
   "metadata": {},
   "source": [
    "##### 그래프 3. Dropout을 적용한 RNN에서 Training과 Validation 데이터의 Iteration(x축)에 따른 정확도 변화"
   ]
  },
  {
   "cell_type": "markdown",
   "metadata": {},
   "source": [
    "##### Dropout을 적용하였지만 유의미하게  Overfitting이 해결되지 않았으며, Validation의 accuracy의 변화 폭이 매우 커져 모델의 정확성에 문제가 생긴 것으로 보인다."
   ]
  },
  {
   "cell_type": "code",
   "execution_count": 29,
   "metadata": {
    "scrolled": false
   },
   "outputs": [
    {
     "data": {
      "text/plain": [
       "<matplotlib.legend.Legend at 0x7fc244fad700>"
      ]
     },
     "execution_count": 29,
     "metadata": {},
     "output_type": "execute_result"
    },
    {
     "data": {
      "image/png": "[encoded data removed]",
      "text/plain": [
       "<Figure size 432x288 with 1 Axes>"
      ]
     },
     "metadata": {
      "needs_background": "light"
     },
     "output_type": "display_data"
    }
   ],
   "source": [
    "plt.plot(x,rnn_val_accuracy,'o', label = 'RNN_val accuracy')\n",
    "plt.legend()\n",
    "plt.plot(x,net_val_accuracy,'o', label = 'MLP_val accuracy')\n",
    "plt.title('Training and validation accuracy')\n",
    "plt.legend()"
   ]
  },
  {
   "cell_type": "markdown",
   "metadata": {},
   "source": [
    "##### 그래프 4. MLP와  RNN에서 Validation 데이터의 Iteration(x축)에 따른 정확도 변화"
   ]
  },
  {
   "cell_type": "code",
   "execution_count": 30,
   "metadata": {
    "scrolled": false
   },
   "outputs": [
    {
     "name": "stdout",
     "output_type": "stream",
     "text": [
      "782/782 [==============================] - 1s 771us/step - loss: 0.3375 - acc: 0.8794\n"
     ]
    }
   ],
   "source": [
    "test_loss, test_acc = net.evaluate(X_test,y_test)"
   ]
  },
  {
   "cell_type": "code",
   "execution_count": 31,
   "metadata": {
    "scrolled": true
   },
   "outputs": [
    {
     "name": "stdout",
     "output_type": "stream",
     "text": [
      "782/782 [==============================] - 11s 14ms/step - loss: 0.6441 - acc: 0.8292\n"
     ]
    }
   ],
   "source": [
    "test1_loss, test1_acc = rnn.evaluate(X1_test,y1_test)"
   ]
  },
  {
   "cell_type": "markdown",
   "metadata": {},
   "source": [
    "||MLP|RNN|\n",
    "|::|::|::|\n",
    "|accuracy|0.8794|0.8292|"
   ]
  },
  {
   "cell_type": "markdown",
   "metadata": {},
   "source": [
    "##### 그래프 2. RNN에서 Training과 Validation 데이터의 Iteration(x축)에 따른 정확도 변화"
   ]
  },
  {
   "cell_type": "markdown",
   "metadata": {},
   "source": [
    "## 결론 및 주의점"
   ]
  },
  {
   "cell_type": "markdown",
   "metadata": {},
   "source": [
    "##### 결론 \n",
    "- Sequence에 따른 분석(RNN)보다 feature를 서로 무관하게 하여 모델링(MLP)한 모델이 IMDB 데이터에서 더 높은 정확도를 가진다.\n",
    "- RNN에서 각 SimpleRNN 레이어에 Dropout을 하여도 Dense 레이어에서만큼의 overfitting문제를 해결하지 못하여 정규화된 모델 구성에 제약이 존재한다.\n",
    "\n",
    "\n",
    "##### 주의점\n",
    "- Multi-layer RNN에서 Dropout을 하는 것은 모델을 효과적으로 정규화할 수 없다. 이는 RNN 구조상 무작위로 요소들을 생략하였을 때, 과거의 정보가 통째로 지워질 수 있기 때문이다. Dropout을 적용하는 것은 학습 데이터에 노이즈를 증가시킬 수 있다.\n",
    "- 입력되는 학습 데이터의 길이가 길어질수록 가중치와 bias가 유의미하게 변하지 못하는 gradient vanishing problem을 가지고 있다. 이를 해결하기 위해서 LSTM(Long-Short Term Memory)모델을 사용할 수 있다. \n",
    "- IDEA를 통해서 RNN 분석에서 모든 RNN 레이어에서 Dropout을 적용하는 것이 아닌 batch 사이즈만큼 지난 후 다음 층으로 넘어가는 연결 부분에만 Dropout을 적용하여 Overfitting을 피할 수 있다.\n",
    "\n",
    "#해당 웹페이지를 참고하였습니다 \n",
    "1. https://medium.com/curg/deep-rnn-%EC%A0%95%EA%B7%9C%ED%99%94%EA%B0%80-%EA%B6%81%EA%B8%88%ED%95%B4-7d69f3bbc171\n",
    "2. https://nmhkahn.github.io/RNN-Regularizations"
   ]
  },
  {
   "cell_type": "code",
   "execution_count": null,
   "metadata": {},
   "outputs": [],
   "source": []
  }
 ],
 "metadata": {
  "kernelspec": {
   "display_name": "Python 3",
   "language": "python",
   "name": "python3"
  },
  "language_info": {
   "codemirror_mode": {
    "name": "ipython",
    "version": 3
   },
   "file_extension": ".py",
   "mimetype": "text/x-python",
   "name": "python",
   "nbconvert_exporter": "python",
   "pygments_lexer": "ipython3",
   "version": "3.8.3"
  }
 },
 "nbformat": 4,
 "nbformat_minor": 4
}
