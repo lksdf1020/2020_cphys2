{
 "cells": [
  {
   "cell_type": "code",
   "execution_count": 1,
   "metadata": {},
   "outputs": [],
   "source": [
    "from keras.datasets import mnist, fashion_mnist\n",
    "from tensorflow import keras\n",
    "from keras import models, layers\n",
    "import numpy as np\n",
    "import matplotlib.pyplot as plt\n",
    "from keras.utils import to_categorical"
   ]
  },
  {
   "cell_type": "markdown",
   "metadata": {},
   "source": [
    "# 손글씨 데이터 분류"
   ]
  },
  {
   "cell_type": "markdown",
   "metadata": {},
   "source": [
    "- 데이터 불러오기"
   ]
  },
  {
   "cell_type": "code",
   "execution_count": 2,
   "metadata": {},
   "outputs": [],
   "source": [
    "(X, y), (X_test, y_test) = mnist.load_data()"
   ]
  },
  {
   "cell_type": "code",
   "execution_count": 3,
   "metadata": {},
   "outputs": [
    {
     "data": {
      "text/plain": [
       "((60000, 28, 28), (60000,))"
      ]
     },
     "execution_count": 3,
     "metadata": {},
     "output_type": "execute_result"
    }
   ],
   "source": [
    "X.shape, y.shape"
   ]
  },
  {
   "cell_type": "code",
   "execution_count": 4,
   "metadata": {},
   "outputs": [
    {
     "data": {
      "text/plain": [
       "((10000, 28, 28), (10000,))"
      ]
     },
     "execution_count": 4,
     "metadata": {},
     "output_type": "execute_result"
    }
   ],
   "source": [
    "X_test.shape, y_test.shape"
   ]
  },
  {
   "cell_type": "markdown",
   "metadata": {},
   "source": [
    "##### 데이터 처리\n",
    "\n",
    "데이터 분석을 위해 3차원 형태(28x28x60000)의 Input Data 형태를 2차원 형태(784x60000)의 형태로 바꿔준다."
   ]
  },
  {
   "cell_type": "code",
   "execution_count": 5,
   "metadata": {},
   "outputs": [],
   "source": [
    "X = X.reshape(60000,28*28)\n",
    "X = X/255\n",
    "X_test = X_test.reshape(10000,28*28)\n",
    "X_test = X_test/255"
   ]
  },
  {
   "cell_type": "markdown",
   "metadata": {},
   "source": [
    "0~9까지의 정수 데이터 값을 가지는 60000x1 행렬로 표현되어 있는 y를 각 데이터와 일치하게 60000x10로 바꿔준다 (Softmax 분석을 위한 필수과정)"
   ]
  },
  {
   "cell_type": "code",
   "execution_count": 6,
   "metadata": {},
   "outputs": [],
   "source": [
    "y = to_categorical(y)\n",
    "y_test = to_categorical(y_test)"
   ]
  },
  {
   "cell_type": "markdown",
   "metadata": {},
   "source": [
    "분류 과정에서 train data에 overfitting을 방지할 수 있도록, 60000개의 데이터를 10000개의 검증 데이터와, 50000개의 트레이닝용 데이터로 나눈다"
   ]
  },
  {
   "cell_type": "code",
   "execution_count": 7,
   "metadata": {},
   "outputs": [],
   "source": [
    "val_X = X[:10000]\n",
    "partial_X = X[10000:]\n",
    "val_y = y[:10000]\n",
    "partial_y = y[10000:]"
   ]
  },
  {
   "cell_type": "markdown",
   "metadata": {},
   "source": [
    "##### 데이터 분류"
   ]
  },
  {
   "cell_type": "markdown",
   "metadata": {},
   "source": [
    "|문제 유형|\tloss function\t|activation function|\n",
    "|:-----:|:-----:|:-----:|\n",
    "|binary classification|\tbinary_crossentropy\t|sigmoid|\n",
    "|multi-class classification|\tcategorical_crossentropy|\tsoftmax|\n",
    "|regression\t|MSE (mean squared error)|\t-|"
   ]
  },
  {
   "cell_type": "markdown",
   "metadata": {},
   "source": [
    "##### 표 1. 문제 유형에 따른 적합한 loss function과 activation function \n",
    "citation : https://github.com/bjmin/bmin_comphys/blob/master/ml/ml08/mlphys08-3.ipynb"
   ]
  },
  {
   "cell_type": "markdown",
   "metadata": {},
   "source": [
    "데이터 분류의 목적이 0~9까지의 숫자 형태의 그림을 숫자로 분류하는 것이므로, multi-class classification에 해당한다. 따라서, 다음과 같은 loss와, activation을 이용한다\n",
    "- loss function = categorical_crossentropy\n",
    "- activation function = softmax"
   ]
  },
  {
   "cell_type": "code",
   "execution_count": 8,
   "metadata": {},
   "outputs": [],
   "source": [
    "smx_1 = models.Sequential()\n",
    "smx_1.add(layers.Dense(512, activation = 'relu',input_shape=(28*28,)))\n",
    "smx_1.add(layers.Dense(512, activation = 'relu',input_shape=(28*28,)))\n",
    "smx_1.add(layers.Dense(10, activation = 'softmax',input_shape=(28*28,)))\n",
    "smx_1.compile(loss = 'categorical_crossentropy', optimizer ='nadam', metrics = ['accuracy'])"
   ]
  },
  {
   "cell_type": "code",
   "execution_count": 9,
   "metadata": {
    "scrolled": true
   },
   "outputs": [
    {
     "name": "stdout",
     "output_type": "stream",
     "text": [
      "Epoch 1/20\n",
      "391/391 [==============================] - 3s 6ms/step - loss: 0.4450 - accuracy: 0.8692 - val_loss: 0.1083 - val_accuracy: 0.9661\n",
      "Epoch 2/20\n",
      "391/391 [==============================] - 2s 4ms/step - loss: 0.0833 - accuracy: 0.9752 - val_loss: 0.1109 - val_accuracy: 0.9641\n",
      "Epoch 3/20\n",
      "391/391 [==============================] - 2s 4ms/step - loss: 0.0460 - accuracy: 0.9855 - val_loss: 0.0951 - val_accuracy: 0.9716\n",
      "Epoch 4/20\n",
      "391/391 [==============================] - 2s 4ms/step - loss: 0.0319 - accuracy: 0.9904 - val_loss: 0.0904 - val_accuracy: 0.9713\n",
      "Epoch 5/20\n",
      "391/391 [==============================] - 2s 4ms/step - loss: 0.0226 - accuracy: 0.9923 - val_loss: 0.0742 - val_accuracy: 0.9796\n",
      "Epoch 6/20\n",
      "391/391 [==============================] - 2s 4ms/step - loss: 0.0183 - accuracy: 0.9938 - val_loss: 0.0846 - val_accuracy: 0.9774\n",
      "Epoch 7/20\n",
      "391/391 [==============================] - 2s 5ms/step - loss: 0.0121 - accuracy: 0.9965 - val_loss: 0.1048 - val_accuracy: 0.9739\n",
      "Epoch 8/20\n",
      "391/391 [==============================] - 2s 5ms/step - loss: 0.0154 - accuracy: 0.9948 - val_loss: 0.0977 - val_accuracy: 0.9779\n",
      "Epoch 9/20\n",
      "391/391 [==============================] - 2s 5ms/step - loss: 0.0113 - accuracy: 0.9962 - val_loss: 0.0956 - val_accuracy: 0.9781\n",
      "Epoch 10/20\n",
      "391/391 [==============================] - 2s 5ms/step - loss: 0.0143 - accuracy: 0.9952 - val_loss: 0.1148 - val_accuracy: 0.9766\n",
      "Epoch 11/20\n",
      "391/391 [==============================] - 2s 5ms/step - loss: 0.0141 - accuracy: 0.9952 - val_loss: 0.1029 - val_accuracy: 0.9789\n",
      "Epoch 12/20\n",
      "391/391 [==============================] - 2s 5ms/step - loss: 0.0096 - accuracy: 0.9969 - val_loss: 0.1095 - val_accuracy: 0.9773\n",
      "Epoch 13/20\n",
      "391/391 [==============================] - 2s 5ms/step - loss: 0.0104 - accuracy: 0.9962 - val_loss: 0.1043 - val_accuracy: 0.9790\n",
      "Epoch 14/20\n",
      "391/391 [==============================] - 2s 5ms/step - loss: 0.0053 - accuracy: 0.9983 - val_loss: 0.1324 - val_accuracy: 0.9768\n",
      "Epoch 15/20\n",
      "391/391 [==============================] - 2s 5ms/step - loss: 0.0129 - accuracy: 0.9960 - val_loss: 0.0975 - val_accuracy: 0.9811\n",
      "Epoch 16/20\n",
      "391/391 [==============================] - 2s 5ms/step - loss: 0.0116 - accuracy: 0.9962 - val_loss: 0.0915 - val_accuracy: 0.9816\n",
      "Epoch 17/20\n",
      "391/391 [==============================] - 2s 5ms/step - loss: 0.0049 - accuracy: 0.9986 - val_loss: 0.1039 - val_accuracy: 0.9807\n",
      "Epoch 18/20\n",
      "391/391 [==============================] - 2s 5ms/step - loss: 0.0043 - accuracy: 0.9988 - val_loss: 0.1199 - val_accuracy: 0.9785\n",
      "Epoch 19/20\n",
      "391/391 [==============================] - 2s 5ms/step - loss: 0.0075 - accuracy: 0.9974 - val_loss: 0.1223 - val_accuracy: 0.9796\n",
      "Epoch 20/20\n",
      "391/391 [==============================] - 2s 5ms/step - loss: 0.0092 - accuracy: 0.9972 - val_loss: 0.1076 - val_accuracy: 0.9808\n"
     ]
    }
   ],
   "source": [
    "model_1 = smx_1.fit(partial_X,partial_y,epochs=20,batch_size = 128, validation_data=(val_X, val_y))"
   ]
  },
  {
   "cell_type": "markdown",
   "metadata": {},
   "source": [
    "##### 정확도 확인"
   ]
  },
  {
   "cell_type": "code",
   "execution_count": 10,
   "metadata": {
    "scrolled": true
   },
   "outputs": [
    {
     "data": {
      "text/plain": [
       "<matplotlib.legend.Legend at 0x7fb04a3459a0>"
      ]
     },
     "execution_count": 10,
     "metadata": {},
     "output_type": "execute_result"
    },
    {
     "data": {
      "image/png": "[encoded data removed]",
      "text/plain": [
       "<Figure size 432x288 with 1 Axes>"
      ]
     },
     "metadata": {
      "needs_background": "light"
     },
     "output_type": "display_data"
    }
   ],
   "source": [
    "validation = model_1.history\n",
    "accuracy = validation['accuracy']\n",
    "val_accuracy = validation['val_accuracy']\n",
    "\n",
    "x = np.arange(0,len(accuracy))\n",
    "plt.plot(x,accuracy,'bo',label='train_accuracy')\n",
    "plt.plot(x,val_accuracy,'ro',label='val_accuracy')\n",
    "plt.legend()"
   ]
  },
  {
   "cell_type": "markdown",
   "metadata": {},
   "source": [
    "##### 그래프 1. x축(training 횟수)에 따른 train data의 정확도 변화 추이(파란색) 와 validation data의 정확도 변화 추이(빨간색)\n",
    "training 횟수에 따라서 정확도가 향상되는 것을 확인할 수 있으나, train data의 정확도와 validation data의 정확도의 차이로 보아 train data에 대해서 overfitting되어있는 것을 확인할 수 있다."
   ]
  },
  {
   "cell_type": "markdown",
   "metadata": {},
   "source": [
    "##### overfitting을 피하기 위해서 기존 모델에 dropout을 추가하여 인공 신경망들의 뉴런들을 확률적으로 사용하지 않는다면"
   ]
  },
  {
   "cell_type": "code",
   "execution_count": 11,
   "metadata": {},
   "outputs": [],
   "source": [
    "smx_2 = models.Sequential()\n",
    "smx_2.add(layers.Dense(512, activation = 'relu',input_shape=(28*28,)))\n",
    "smx_2.add(layers.Dropout(0.5)) # dropout 추가(50%의 확률)\n",
    "smx_2.add(layers.Dense(512, activation = 'relu',input_shape=(28*28,)))\n",
    "smx_2.add(layers.Dropout(0.5)) # dropout 추가(50%의 확률)\n",
    "smx_2.add(layers.Dense(10, activation = 'softmax',input_shape=(28*28,)))\n",
    "smx_2.compile(loss = 'categorical_crossentropy', optimizer ='nadam', metrics = ['accuracy'])"
   ]
  },
  {
   "cell_type": "code",
   "execution_count": 12,
   "metadata": {
    "scrolled": false
   },
   "outputs": [
    {
     "name": "stdout",
     "output_type": "stream",
     "text": [
      "Epoch 1/20\n",
      "391/391 [==============================] - 3s 6ms/step - loss: 0.6635 - accuracy: 0.7879 - val_loss: 0.1451 - val_accuracy: 0.9549\n",
      "Epoch 2/20\n",
      "391/391 [==============================] - 2s 5ms/step - loss: 0.1850 - accuracy: 0.9436 - val_loss: 0.1087 - val_accuracy: 0.9672\n",
      "Epoch 3/20\n",
      "391/391 [==============================] - 2s 6ms/step - loss: 0.1352 - accuracy: 0.9587 - val_loss: 0.0945 - val_accuracy: 0.9714\n",
      "Epoch 4/20\n",
      "391/391 [==============================] - 2s 6ms/step - loss: 0.1097 - accuracy: 0.9659 - val_loss: 0.0807 - val_accuracy: 0.9764\n",
      "Epoch 5/20\n",
      "391/391 [==============================] - 2s 6ms/step - loss: 0.0955 - accuracy: 0.9694 - val_loss: 0.0778 - val_accuracy: 0.9764\n",
      "Epoch 6/20\n",
      "391/391 [==============================] - 2s 6ms/step - loss: 0.0849 - accuracy: 0.9742 - val_loss: 0.0774 - val_accuracy: 0.9781\n",
      "Epoch 7/20\n",
      "391/391 [==============================] - 2s 5ms/step - loss: 0.0817 - accuracy: 0.9738 - val_loss: 0.0777 - val_accuracy: 0.9776\n",
      "Epoch 8/20\n",
      "391/391 [==============================] - 2s 5ms/step - loss: 0.0762 - accuracy: 0.9756 - val_loss: 0.0683 - val_accuracy: 0.9794\n",
      "Epoch 9/20\n",
      "391/391 [==============================] - 2s 5ms/step - loss: 0.0646 - accuracy: 0.9789 - val_loss: 0.0710 - val_accuracy: 0.9788\n",
      "Epoch 10/20\n",
      "391/391 [==============================] - 2s 5ms/step - loss: 0.0585 - accuracy: 0.9801 - val_loss: 0.0691 - val_accuracy: 0.9807\n",
      "Epoch 11/20\n",
      "391/391 [==============================] - 2s 5ms/step - loss: 0.0626 - accuracy: 0.9805 - val_loss: 0.0703 - val_accuracy: 0.9795\n",
      "Epoch 12/20\n",
      "391/391 [==============================] - 2s 5ms/step - loss: 0.0581 - accuracy: 0.9808 - val_loss: 0.0675 - val_accuracy: 0.9813\n",
      "Epoch 13/20\n",
      "391/391 [==============================] - 2s 5ms/step - loss: 0.0550 - accuracy: 0.9818 - val_loss: 0.0660 - val_accuracy: 0.9829\n",
      "Epoch 14/20\n",
      "391/391 [==============================] - 2s 5ms/step - loss: 0.0456 - accuracy: 0.9846 - val_loss: 0.0743 - val_accuracy: 0.9793\n",
      "Epoch 15/20\n",
      "391/391 [==============================] - 2s 6ms/step - loss: 0.0458 - accuracy: 0.9852 - val_loss: 0.0680 - val_accuracy: 0.9819\n",
      "Epoch 16/20\n",
      "391/391 [==============================] - 2s 5ms/step - loss: 0.0452 - accuracy: 0.9858 - val_loss: 0.0763 - val_accuracy: 0.9803\n",
      "Epoch 17/20\n",
      "391/391 [==============================] - 2s 5ms/step - loss: 0.0496 - accuracy: 0.9830 - val_loss: 0.0667 - val_accuracy: 0.9833\n",
      "Epoch 18/20\n",
      "391/391 [==============================] - 2s 6ms/step - loss: 0.0442 - accuracy: 0.9855 - val_loss: 0.0723 - val_accuracy: 0.9817\n",
      "Epoch 19/20\n",
      "391/391 [==============================] - 2s 5ms/step - loss: 0.0475 - accuracy: 0.9850 - val_loss: 0.0666 - val_accuracy: 0.9829\n",
      "Epoch 20/20\n",
      "391/391 [==============================] - 2s 5ms/step - loss: 0.0428 - accuracy: 0.9860 - val_loss: 0.0646 - val_accuracy: 0.9832\n"
     ]
    }
   ],
   "source": [
    "model_2 = smx_2.fit(partial_X,partial_y,epochs=20,batch_size = 128, validation_data=(val_X, val_y))"
   ]
  },
  {
   "cell_type": "code",
   "execution_count": 13,
   "metadata": {
    "scrolled": true
   },
   "outputs": [
    {
     "data": {
      "text/plain": [
       "<matplotlib.legend.Legend at 0x7fb02a3ada90>"
      ]
     },
     "execution_count": 13,
     "metadata": {},
     "output_type": "execute_result"
    },
    {
     "data": {
      "image/png": "[encoded data removed]",
      "text/plain": [
       "<Figure size 432x288 with 1 Axes>"
      ]
     },
     "metadata": {
      "needs_background": "light"
     },
     "output_type": "display_data"
    }
   ],
   "source": [
    "validation = model_2.history\n",
    "accuracy = validation['accuracy']\n",
    "val_accuracy = validation['val_accuracy']\n",
    "\n",
    "x = np.arange(0,len(accuracy))\n",
    "plt.plot(x,accuracy,'bo',label='train_accuracy')\n",
    "plt.plot(x,val_accuracy,'ro',label='val_accuracy')\n",
    "plt.legend()"
   ]
  },
  {
   "cell_type": "markdown",
   "metadata": {},
   "source": [
    "##### 그래프 2. dropout을 적용한 x축(training 횟수)에 따른 train data의 정확도 변화 추이(파란색) 와 validation data의 정확도 변화 추이(빨간색)\n",
    "training 횟수에 따라서 정확도가 향상되는 것을 확인할 수 있고, train data의 정확도와 validation data의 정확도가 거의 일치하는 것을 확인할 수 있다. "
   ]
  },
  {
   "cell_type": "code",
   "execution_count": 14,
   "metadata": {
    "scrolled": false
   },
   "outputs": [
    {
     "name": "stdout",
     "output_type": "stream",
     "text": [
      "313/313 [==============================] - 0s 899us/step - loss: 0.1125 - accuracy: 0.9781\n"
     ]
    }
   ],
   "source": [
    "test_loss, test_acc = smx_1.evaluate(X_test, y_test)"
   ]
  },
  {
   "cell_type": "code",
   "execution_count": 15,
   "metadata": {},
   "outputs": [
    {
     "name": "stdout",
     "output_type": "stream",
     "text": [
      "313/313 [==============================] - 0s 873us/step - loss: 0.0629 - accuracy: 0.9821\n"
     ]
    }
   ],
   "source": [
    "test_loss, test_acc = smx_2.evaluate(X_test, y_test)"
   ]
  },
  {
   "cell_type": "markdown",
   "metadata": {},
   "source": [
    "|dropout|O|X|\n",
    "|:-----:|:-----:|:-----:|\n",
    "|accuracy|0.9821|0.9781|"
   ]
  },
  {
   "cell_type": "markdown",
   "metadata": {},
   "source": [
    "##### 표 2. dropout 을 적용한 모델과 아닌 모델에 대한 test data에 대한 정확도\n",
    "dropout을 적용한 모델에서 약간의 정확도 상승을 얻을 수 있다."
   ]
  },
  {
   "cell_type": "markdown",
   "metadata": {},
   "source": [
    "# 패션 데이터 분류"
   ]
  },
  {
   "cell_type": "code",
   "execution_count": 16,
   "metadata": {},
   "outputs": [],
   "source": [
    "(X1, y1), (X1_test, y1_test) = fashion_mnist.load_data()"
   ]
  },
  {
   "cell_type": "markdown",
   "metadata": {},
   "source": [
    "##### 데이터 처리\n",
    "\n",
    "데이터 분석을 위해 3차원 형태(28x28x60000)의 Input Data 형태를 2차원 형태(784x60000)의 형태로 바꿔준다."
   ]
  },
  {
   "cell_type": "code",
   "execution_count": 17,
   "metadata": {},
   "outputs": [],
   "source": [
    "X1 = X1.reshape(60000,28*28)\n",
    "X1 = X1/255\n",
    "X1_test = X1_test.reshape(10000,28*28)\n",
    "X1_test = X1_test/255"
   ]
  },
  {
   "cell_type": "markdown",
   "metadata": {},
   "source": [
    "0~9까지의 정수 데이터 값을 가지는 60000x1 행렬로 표현되어 있는 y를 각 데이터와 일치하게 60000x10로 바꿔준다 (Softmax 분석을 위한 필수과정)"
   ]
  },
  {
   "cell_type": "code",
   "execution_count": 18,
   "metadata": {},
   "outputs": [],
   "source": [
    "y1 = to_categorical(y1)\n",
    "y1_test = to_categorical(y1_test)"
   ]
  },
  {
   "cell_type": "markdown",
   "metadata": {},
   "source": [
    "분류 과정에서 train data에 overfitting을 방지할 수 있도록, 60000개의 데이터를 10000개의 검증 데이터와, 50000개의 트레이닝용 데이터로 나눈다"
   ]
  },
  {
   "cell_type": "code",
   "execution_count": 19,
   "metadata": {},
   "outputs": [],
   "source": [
    "val_X1 = X1[:10000]\n",
    "partial_X1 = X1[10000:]\n",
    "val_y1 = y1[:10000]\n",
    "partial_y1 = y1[10000:]"
   ]
  },
  {
   "cell_type": "markdown",
   "metadata": {},
   "source": [
    "##### 데이터 분류\n",
    "표 1에 따라서 multiclassification에 따른 softmax와 categorical_crossentropy를 각각 사용한다"
   ]
  },
  {
   "cell_type": "code",
   "execution_count": 28,
   "metadata": {},
   "outputs": [],
   "source": [
    "smx_3 = models.Sequential()\n",
    "smx_3.add(layers.Dense(512, activation = 'relu',input_shape=(28*28,)))\n",
    "smx_3.add(layers.Dense(512, activation = 'relu',input_shape=(28*28,)))\n",
    "smx_3.add(layers.Dense(10, activation = 'softmax',input_shape=(28*28,)))\n",
    "smx_3.compile(loss = 'categorical_crossentropy', optimizer ='nadam', metrics = ['accuracy'])"
   ]
  },
  {
   "cell_type": "code",
   "execution_count": 29,
   "metadata": {
    "scrolled": true
   },
   "outputs": [
    {
     "name": "stdout",
     "output_type": "stream",
     "text": [
      "Epoch 1/30\n",
      "391/391 [==============================] - 2s 5ms/step - loss: 0.6992 - accuracy: 0.7544 - val_loss: 0.4469 - val_accuracy: 0.8305\n",
      "Epoch 2/30\n",
      "391/391 [==============================] - 2s 4ms/step - loss: 0.3635 - accuracy: 0.8667 - val_loss: 0.3321 - val_accuracy: 0.8790\n",
      "Epoch 3/30\n",
      "391/391 [==============================] - 2s 4ms/step - loss: 0.3124 - accuracy: 0.8835 - val_loss: 0.3330 - val_accuracy: 0.8825\n",
      "Epoch 4/30\n",
      "391/391 [==============================] - 2s 5ms/step - loss: 0.2805 - accuracy: 0.8949 - val_loss: 0.3057 - val_accuracy: 0.8884\n",
      "Epoch 5/30\n",
      "391/391 [==============================] - 2s 5ms/step - loss: 0.2645 - accuracy: 0.9009 - val_loss: 0.2970 - val_accuracy: 0.8882\n",
      "Epoch 6/30\n",
      "391/391 [==============================] - 2s 5ms/step - loss: 0.2481 - accuracy: 0.9064 - val_loss: 0.3286 - val_accuracy: 0.8795\n",
      "Epoch 7/30\n",
      "391/391 [==============================] - 2s 5ms/step - loss: 0.2290 - accuracy: 0.9133 - val_loss: 0.2951 - val_accuracy: 0.8890\n",
      "Epoch 8/30\n",
      "391/391 [==============================] - 2s 5ms/step - loss: 0.2175 - accuracy: 0.9181 - val_loss: 0.2873 - val_accuracy: 0.8977\n",
      "Epoch 9/30\n",
      "391/391 [==============================] - 2s 5ms/step - loss: 0.2024 - accuracy: 0.9235 - val_loss: 0.3057 - val_accuracy: 0.8969\n",
      "Epoch 10/30\n",
      "391/391 [==============================] - 2s 4ms/step - loss: 0.1902 - accuracy: 0.9274 - val_loss: 0.2953 - val_accuracy: 0.8952\n",
      "Epoch 11/30\n",
      "391/391 [==============================] - 2s 5ms/step - loss: 0.1785 - accuracy: 0.9329 - val_loss: 0.3058 - val_accuracy: 0.8951\n",
      "Epoch 12/30\n",
      "391/391 [==============================] - 2s 5ms/step - loss: 0.1690 - accuracy: 0.9372 - val_loss: 0.3168 - val_accuracy: 0.8943\n",
      "Epoch 13/30\n",
      "391/391 [==============================] - 2s 5ms/step - loss: 0.1627 - accuracy: 0.9385 - val_loss: 0.3346 - val_accuracy: 0.8880\n",
      "Epoch 14/30\n",
      "391/391 [==============================] - 2s 5ms/step - loss: 0.1524 - accuracy: 0.9410 - val_loss: 0.3277 - val_accuracy: 0.8934\n",
      "Epoch 15/30\n",
      "391/391 [==============================] - 2s 5ms/step - loss: 0.1428 - accuracy: 0.9452 - val_loss: 0.3156 - val_accuracy: 0.8968\n",
      "Epoch 16/30\n",
      "391/391 [==============================] - 2s 5ms/step - loss: 0.1416 - accuracy: 0.9458 - val_loss: 0.3227 - val_accuracy: 0.8997\n",
      "Epoch 17/30\n",
      "391/391 [==============================] - 2s 5ms/step - loss: 0.1304 - accuracy: 0.9506 - val_loss: 0.3381 - val_accuracy: 0.8934\n",
      "Epoch 18/30\n",
      "391/391 [==============================] - 2s 5ms/step - loss: 0.1269 - accuracy: 0.9522 - val_loss: 0.3223 - val_accuracy: 0.8984\n",
      "Epoch 19/30\n",
      "391/391 [==============================] - 2s 5ms/step - loss: 0.1204 - accuracy: 0.9521 - val_loss: 0.3481 - val_accuracy: 0.8939\n",
      "Epoch 20/30\n",
      "391/391 [==============================] - 2s 5ms/step - loss: 0.1178 - accuracy: 0.9569 - val_loss: 0.3777 - val_accuracy: 0.8944\n",
      "Epoch 21/30\n",
      "391/391 [==============================] - 2s 5ms/step - loss: 0.1128 - accuracy: 0.9559 - val_loss: 0.3709 - val_accuracy: 0.8956\n",
      "Epoch 22/30\n",
      "391/391 [==============================] - 2s 5ms/step - loss: 0.1061 - accuracy: 0.9598 - val_loss: 0.3841 - val_accuracy: 0.8933\n",
      "Epoch 23/30\n",
      "391/391 [==============================] - 2s 5ms/step - loss: 0.0993 - accuracy: 0.9615 - val_loss: 0.3718 - val_accuracy: 0.8980\n",
      "Epoch 24/30\n",
      "391/391 [==============================] - 2s 5ms/step - loss: 0.0949 - accuracy: 0.9633 - val_loss: 0.3903 - val_accuracy: 0.8984\n",
      "Epoch 25/30\n",
      "391/391 [==============================] - 2s 5ms/step - loss: 0.0937 - accuracy: 0.9642 - val_loss: 0.4098 - val_accuracy: 0.8973\n",
      "Epoch 26/30\n",
      "391/391 [==============================] - 2s 5ms/step - loss: 0.0854 - accuracy: 0.9679 - val_loss: 0.4134 - val_accuracy: 0.8999\n",
      "Epoch 27/30\n",
      "391/391 [==============================] - 2s 5ms/step - loss: 0.0796 - accuracy: 0.9700 - val_loss: 0.3966 - val_accuracy: 0.8980\n",
      "Epoch 28/30\n",
      "391/391 [==============================] - 2s 5ms/step - loss: 0.0764 - accuracy: 0.9712 - val_loss: 0.4518 - val_accuracy: 0.8937\n",
      "Epoch 29/30\n",
      "391/391 [==============================] - 2s 5ms/step - loss: 0.0777 - accuracy: 0.9700 - val_loss: 0.4379 - val_accuracy: 0.8916\n",
      "Epoch 30/30\n",
      "391/391 [==============================] - 2s 5ms/step - loss: 0.0766 - accuracy: 0.9706 - val_loss: 0.4539 - val_accuracy: 0.8943\n"
     ]
    }
   ],
   "source": [
    "model_3 = smx_3.fit(partial_X1,partial_y1,epochs=30,batch_size = 128, validation_data=(val_X1, val_y1))"
   ]
  },
  {
   "cell_type": "code",
   "execution_count": 30,
   "metadata": {
    "scrolled": false
   },
   "outputs": [
    {
     "data": {
      "text/plain": [
       "<matplotlib.legend.Legend at 0x7fafe93ca7c0>"
      ]
     },
     "execution_count": 30,
     "metadata": {},
     "output_type": "execute_result"
    },
    {
     "data": {
      "image/png": "[encoded data removed]",
      "text/plain": [
       "<Figure size 432x288 with 1 Axes>"
      ]
     },
     "metadata": {
      "needs_background": "light"
     },
     "output_type": "display_data"
    }
   ],
   "source": [
    "validation = model_3.history\n",
    "accuracy = validation['accuracy']\n",
    "val_accuracy = validation['val_accuracy']\n",
    "\n",
    "x = np.arange(0,len(accuracy))\n",
    "plt.plot(x,accuracy,'bo',label='train_accuracy')\n",
    "plt.plot(x,val_accuracy,'ro',label='val_accuracy')\n",
    "plt.legend()"
   ]
  },
  {
   "cell_type": "markdown",
   "metadata": {},
   "source": [
    "##### 그래프 3. x축(training 횟수)에 따른 train data의 정확도 변화 추이(파란색) 와 validation data의 정확도 변화 추이(빨간색)\n",
    "training 횟수에 따라서 정확도가 향상되는 것을 확인할 수 있으나, train data의 정확도와 validation data의 정확도의 차이로 보아 train data에 대해서 overfitting되어있는 것을 확인할 수 있다."
   ]
  },
  {
   "cell_type": "markdown",
   "metadata": {},
   "source": [
    "##### 앞선 방법과 같이 overfitting을 피하기 위해서 기존 모델에 dropout을 추가하여 인공 신경망들의 뉴런들을 확률적으로 사용하지 않는다."
   ]
  },
  {
   "cell_type": "code",
   "execution_count": 31,
   "metadata": {},
   "outputs": [],
   "source": [
    "smx_4 = models.Sequential()\n",
    "smx_4.add(layers.Dense(512, activation = 'relu',input_shape=(28*28,)))\n",
    "smx_4.add(layers.Dropout(0.5))\n",
    "smx_4.add(layers.Dense(512, activation = 'relu',input_shape=(28*28,)))\n",
    "smx_4.add(layers.Dropout(0.5))\n",
    "smx_4.add(layers.Dense(10, activation = 'softmax',input_shape=(28*28,)))\n",
    "smx_4.compile(loss = 'categorical_crossentropy', optimizer ='nadam', metrics = ['accuracy'])"
   ]
  },
  {
   "cell_type": "code",
   "execution_count": 32,
   "metadata": {
    "scrolled": false
   },
   "outputs": [
    {
     "name": "stdout",
     "output_type": "stream",
     "text": [
      "Epoch 1/30\n",
      "391/391 [==============================] - 3s 6ms/step - loss: 0.8544 - accuracy: 0.6955 - val_loss: 0.4181 - val_accuracy: 0.8456\n",
      "Epoch 2/30\n",
      "391/391 [==============================] - 2s 6ms/step - loss: 0.4639 - accuracy: 0.8313 - val_loss: 0.4192 - val_accuracy: 0.8418\n",
      "Epoch 3/30\n",
      "391/391 [==============================] - 2s 6ms/step - loss: 0.4229 - accuracy: 0.8455 - val_loss: 0.3509 - val_accuracy: 0.8704\n",
      "Epoch 4/30\n",
      "391/391 [==============================] - 2s 5ms/step - loss: 0.3903 - accuracy: 0.8584 - val_loss: 0.3508 - val_accuracy: 0.8715\n",
      "Epoch 5/30\n",
      "391/391 [==============================] - 2s 5ms/step - loss: 0.3779 - accuracy: 0.8590 - val_loss: 0.3296 - val_accuracy: 0.8789\n",
      "Epoch 6/30\n",
      "391/391 [==============================] - 2s 6ms/step - loss: 0.3635 - accuracy: 0.8679 - val_loss: 0.3397 - val_accuracy: 0.8739\n",
      "Epoch 7/30\n",
      "391/391 [==============================] - 2s 6ms/step - loss: 0.3592 - accuracy: 0.8675 - val_loss: 0.3217 - val_accuracy: 0.8822\n",
      "Epoch 8/30\n",
      "391/391 [==============================] - 2s 6ms/step - loss: 0.3398 - accuracy: 0.8744 - val_loss: 0.3274 - val_accuracy: 0.8794\n",
      "Epoch 9/30\n",
      "391/391 [==============================] - 2s 5ms/step - loss: 0.3376 - accuracy: 0.8744 - val_loss: 0.3217 - val_accuracy: 0.8757\n",
      "Epoch 10/30\n",
      "391/391 [==============================] - 2s 5ms/step - loss: 0.3343 - accuracy: 0.8769 - val_loss: 0.3114 - val_accuracy: 0.8840\n",
      "Epoch 11/30\n",
      "391/391 [==============================] - 2s 5ms/step - loss: 0.3258 - accuracy: 0.8792 - val_loss: 0.3077 - val_accuracy: 0.8868\n",
      "Epoch 12/30\n",
      "391/391 [==============================] - 2s 5ms/step - loss: 0.3173 - accuracy: 0.8807 - val_loss: 0.3018 - val_accuracy: 0.8893\n",
      "Epoch 13/30\n",
      "391/391 [==============================] - 2s 5ms/step - loss: 0.3158 - accuracy: 0.8856 - val_loss: 0.3076 - val_accuracy: 0.8870\n",
      "Epoch 14/30\n",
      "391/391 [==============================] - 2s 5ms/step - loss: 0.3057 - accuracy: 0.8862 - val_loss: 0.2999 - val_accuracy: 0.8852\n",
      "Epoch 15/30\n",
      "391/391 [==============================] - 2s 5ms/step - loss: 0.3085 - accuracy: 0.8845 - val_loss: 0.2928 - val_accuracy: 0.8902\n",
      "Epoch 16/30\n",
      "391/391 [==============================] - 2s 5ms/step - loss: 0.3016 - accuracy: 0.8886 - val_loss: 0.2920 - val_accuracy: 0.8914\n",
      "Epoch 17/30\n",
      "391/391 [==============================] - 2s 5ms/step - loss: 0.2950 - accuracy: 0.8885 - val_loss: 0.2943 - val_accuracy: 0.8938\n",
      "Epoch 18/30\n",
      "391/391 [==============================] - 2s 5ms/step - loss: 0.2937 - accuracy: 0.8911 - val_loss: 0.2969 - val_accuracy: 0.8899\n",
      "Epoch 19/30\n",
      "391/391 [==============================] - 2s 5ms/step - loss: 0.2946 - accuracy: 0.8905 - val_loss: 0.2989 - val_accuracy: 0.8895\n",
      "Epoch 20/30\n",
      "391/391 [==============================] - 2s 5ms/step - loss: 0.2911 - accuracy: 0.8907 - val_loss: 0.2868 - val_accuracy: 0.8948\n",
      "Epoch 21/30\n",
      "391/391 [==============================] - 2s 5ms/step - loss: 0.2813 - accuracy: 0.8939 - val_loss: 0.2950 - val_accuracy: 0.8928\n",
      "Epoch 22/30\n",
      "391/391 [==============================] - 2s 6ms/step - loss: 0.2819 - accuracy: 0.8945 - val_loss: 0.2901 - val_accuracy: 0.8944\n",
      "Epoch 23/30\n",
      "391/391 [==============================] - 2s 5ms/step - loss: 0.2787 - accuracy: 0.8947 - val_loss: 0.2910 - val_accuracy: 0.8936\n",
      "Epoch 24/30\n",
      "391/391 [==============================] - 2s 5ms/step - loss: 0.2828 - accuracy: 0.8958 - val_loss: 0.2842 - val_accuracy: 0.8931\n",
      "Epoch 25/30\n",
      "391/391 [==============================] - 2s 5ms/step - loss: 0.2736 - accuracy: 0.8981 - val_loss: 0.2899 - val_accuracy: 0.8932\n",
      "Epoch 26/30\n",
      "391/391 [==============================] - 2s 5ms/step - loss: 0.2761 - accuracy: 0.8959 - val_loss: 0.2813 - val_accuracy: 0.8963\n",
      "Epoch 27/30\n",
      "391/391 [==============================] - 2s 5ms/step - loss: 0.2739 - accuracy: 0.8977 - val_loss: 0.2903 - val_accuracy: 0.8940\n",
      "Epoch 28/30\n",
      "391/391 [==============================] - 2s 5ms/step - loss: 0.2729 - accuracy: 0.8956 - val_loss: 0.2902 - val_accuracy: 0.8892\n",
      "Epoch 29/30\n",
      "391/391 [==============================] - 2s 5ms/step - loss: 0.2645 - accuracy: 0.9005 - val_loss: 0.2836 - val_accuracy: 0.8953\n",
      "Epoch 30/30\n",
      "391/391 [==============================] - 2s 5ms/step - loss: 0.2639 - accuracy: 0.9008 - val_loss: 0.2872 - val_accuracy: 0.8947\n"
     ]
    }
   ],
   "source": [
    "model_4 = smx_4.fit(partial_X1,partial_y1,epochs=30,batch_size = 128, validation_data=(val_X1, val_y1))"
   ]
  },
  {
   "cell_type": "code",
   "execution_count": 33,
   "metadata": {
    "scrolled": false
   },
   "outputs": [
    {
     "data": {
      "text/plain": [
       "<matplotlib.legend.Legend at 0x7fafe9761070>"
      ]
     },
     "execution_count": 33,
     "metadata": {},
     "output_type": "execute_result"
    },
    {
     "data": {
      "image/png": "[encoded data removed]",
      "text/plain": [
       "<Figure size 432x288 with 1 Axes>"
      ]
     },
     "metadata": {
      "needs_background": "light"
     },
     "output_type": "display_data"
    }
   ],
   "source": [
    "validation = model_4.history\n",
    "accuracy = validation['accuracy']\n",
    "val_accuracy = validation['val_accuracy']\n",
    "\n",
    "x = np.arange(0,len(accuracy))\n",
    "plt.plot(x,accuracy,'bo',label='train_accuracy')\n",
    "plt.plot(x,val_accuracy,'ro',label='val_accuracy')\n",
    "plt.legend()"
   ]
  },
  {
   "cell_type": "markdown",
   "metadata": {},
   "source": [
    "##### 그래프 4. dropout을 적용한 x축(training 횟수)에 따른 train data의 정확도 변화 추이(파란색) 와 validation data의 정확도 변화 추이(빨간색)\n",
    "training 횟수에 따라서 정확도가 향상되는 것을 확인할 수 있고, train data의 정확도와 validation data의 정확도가 거의 일치하는 것을 확인할 수 있다."
   ]
  },
  {
   "cell_type": "code",
   "execution_count": 34,
   "metadata": {
    "scrolled": true
   },
   "outputs": [
    {
     "name": "stdout",
     "output_type": "stream",
     "text": [
      "313/313 [==============================] - 0s 871us/step - loss: 0.5217 - accuracy: 0.8891\n"
     ]
    }
   ],
   "source": [
    "test_loss, test_acc = smx_3.evaluate(X1_test, y1_test)"
   ]
  },
  {
   "cell_type": "code",
   "execution_count": 35,
   "metadata": {},
   "outputs": [
    {
     "name": "stdout",
     "output_type": "stream",
     "text": [
      "313/313 [==============================] - 0s 851us/step - loss: 0.3119 - accuracy: 0.8892\n"
     ]
    }
   ],
   "source": [
    "test_loss, test_acc = smx_4.evaluate(X1_test, y1_test)"
   ]
  },
  {
   "cell_type": "markdown",
   "metadata": {},
   "source": [
    "|dropout|O|X|\n",
    "|:-----:|:-----:|:-----:|\n",
    "|accuracy|0.8892|0.8891|"
   ]
  },
  {
   "cell_type": "markdown",
   "metadata": {},
   "source": [
    "##### 표 3. dropout 을 적용한 모델과 아닌 모델에 대한 test data에 대한 정확도\n",
    "dropout을 적용한 모델에서 약간의 정확도 상승을 얻을 수 있다."
   ]
  },
  {
   "cell_type": "markdown",
   "metadata": {},
   "source": [
    "## 결론"
   ]
  },
  {
   "cell_type": "markdown",
   "metadata": {},
   "source": [
    "- 인공 신경망에 여러 layers을 더해주면서 분류 모델을 형성할 수 있다.\n",
    "- 하지만, 모델을 train 데이터를 통해 분석할수록 train 데이터에 대해서 overfitting되는 경향이 있다.\n",
    "- 이러한 경향은 dropout을 통해서 확률적으로 인공 신경망들의 뉴런들을 제외시킴으로써 피할 수 있다."
   ]
  },
  {
   "cell_type": "markdown",
   "metadata": {},
   "source": [
    "##### 의문점\n",
    "- dropout을 포함한 모델은 validation data의 정확도와 비슷하게 얻어낸 것으로 보아 training data에 overfitting되지 않은 것으로 보인다. 하지만, test data를 해당 모델로 추측하였을 때, dropout을 제외한 모델로 추측한 것과 정확도 차이가 거의 없는 것을 확인할 수 있다.\n",
    "- 이러한 경향은 데이터의 수가 많아서 그런 것? 아니면 데이터의 본질적인 한계?\n"
   ]
  },
  {
   "cell_type": "code",
   "execution_count": null,
   "metadata": {},
   "outputs": [],
   "source": []
  }
 ],
 "metadata": {
  "kernelspec": {
   "display_name": "Python 3",
   "language": "python",
   "name": "python3"
  },
  "language_info": {
   "codemirror_mode": {
    "name": "ipython",
    "version": 3
   },
   "file_extension": ".py",
   "mimetype": "text/x-python",
   "name": "python",
   "nbconvert_exporter": "python",
   "pygments_lexer": "ipython3",
   "version": "3.8.3"
  }
 },
 "nbformat": 4,
 "nbformat_minor": 4
}
