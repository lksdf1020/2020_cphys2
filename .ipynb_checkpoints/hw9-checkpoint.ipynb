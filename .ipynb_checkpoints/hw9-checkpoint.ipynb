{
 "cells": [
  {
   "cell_type": "markdown",
   "metadata": {},
   "source": [
    "# MLP(Multi-Layer Perceptron)"
   ]
  },
  {
   "cell_type": "code",
   "execution_count": 56,
   "metadata": {},
   "outputs": [],
   "source": [
    "from keras.datasets import mnist, fashion_mnist\n",
    "from tensorflow import keras\n",
    "from keras import models, layers\n",
    "import numpy as np\n",
    "import matplotlib.pyplot as plt\n",
    "from keras.utils import to_categorical"
   ]
  },
  {
   "cell_type": "code",
   "execution_count": 57,
   "metadata": {},
   "outputs": [],
   "source": [
    "(X, y), (X_test, y_test) = fashion_mnist.load_data()"
   ]
  },
  {
   "cell_type": "markdown",
   "metadata": {},
   "source": [
    "##### 데이터 처리"
   ]
  },
  {
   "cell_type": "code",
   "execution_count": 58,
   "metadata": {},
   "outputs": [],
   "source": [
    "X = X.reshape(60000,28,28,1)\n",
    "X = X/255\n",
    "X_test = X_test.reshape(10000,28,28,1)\n",
    "X_test = X_test/255"
   ]
  },
  {
   "cell_type": "markdown",
   "metadata": {},
   "source": [
    "0~9까지의 정수 데이터 값을 가지는 60000x1 행렬로 표현되어 있는 y를 각 데이터와 일치하게 60000x10로 바꿔준다"
   ]
  },
  {
   "cell_type": "code",
   "execution_count": 59,
   "metadata": {},
   "outputs": [],
   "source": [
    "y = to_categorical(y)\n",
    "y_test = to_categorical(y_test)"
   ]
  },
  {
   "cell_type": "markdown",
   "metadata": {},
   "source": [
    "분류 과정에서 train data에 overfitting을 방지할 수 있도록, 60000개의 데이터를 10000개의 검증 데이터와, 50000개의 트레이닝용 데이터로 나눈다"
   ]
  },
  {
   "cell_type": "code",
   "execution_count": 60,
   "metadata": {},
   "outputs": [],
   "source": [
    "val_X = X[:10000]\n",
    "partial_X = X[10000:]\n",
    "val_y = y[:10000]\n",
    "partial_y = y[10000:]"
   ]
  },
  {
   "cell_type": "markdown",
   "metadata": {},
   "source": [
    "##### MLP와 CNN의 비교를 위하여 두 모델의 Dense Layer의 구성을 동일하게 진행하였다\n"
   ]
  },
  {
   "cell_type": "markdown",
   "metadata": {},
   "source": [
    "||Layer1|Layer2|Layer3|Layer4|Layer5|Layer6|Layer7|Layer8|Layer9|Layer10|Layer11|Layer12|\n",
    "|:-----:|:-----:|:-----:|:-----:|:-----:|:-----:|:-----:|:-----:|:-----:|:-----:|:-----:|:-----:|:-----:|\n",
    "|MLP||||||||Dense(512/relu)|Dropout(0.5)|Dense(64/relu)|Dropout(0.5)|Dense(10/softmax)|\n",
    "|CNN|Conv(32)|Pooling(Max/2x2)|Dropout(0.3)|Conv(64)|Pooling(Max/2x2)|Dropout(0.3)|Conv(64)|Dense(512/relu)|Dropout(0.5)|Dense(64/relu)|Dropout(0.5)|Dense(10/softmax)|"
   ]
  },
  {
   "cell_type": "code",
   "execution_count": 61,
   "metadata": {},
   "outputs": [],
   "source": [
    "mlp = models.Sequential()\n",
    "mlp.add(layers.Flatten())\n",
    "mlp.add(layers.Dense(512, activation = 'relu',input_shape=(28*28,1)))\n",
    "mlp.add(layers.Dropout(0.5))\n",
    "mlp.add(layers.Dense(64, activation = 'relu'))\n",
    "mlp.add(layers.Dropout(0.5))\n",
    "mlp.add(layers.Dense(10, activation = 'softmax'))\n",
    "mlp.compile(loss = 'categorical_crossentropy', optimizer ='nadam', metrics = ['accuracy'])"
   ]
  },
  {
   "cell_type": "code",
   "execution_count": 62,
   "metadata": {},
   "outputs": [
    {
     "name": "stdout",
     "output_type": "stream",
     "text": [
      "Epoch 1/20\n",
      "782/782 [==============================] - 3s 3ms/step - loss: 0.9672 - accuracy: 0.6549 - val_loss: 0.4557 - val_accuracy: 0.8295\n",
      "Epoch 2/20\n",
      "782/782 [==============================] - 2s 3ms/step - loss: 0.5296 - accuracy: 0.8162 - val_loss: 0.4030 - val_accuracy: 0.8519\n",
      "Epoch 3/20\n",
      "782/782 [==============================] - 2s 3ms/step - loss: 0.4787 - accuracy: 0.8295 - val_loss: 0.3789 - val_accuracy: 0.8564\n",
      "Epoch 4/20\n",
      "782/782 [==============================] - 2s 3ms/step - loss: 0.4509 - accuracy: 0.8401 - val_loss: 0.3651 - val_accuracy: 0.8675\n",
      "Epoch 5/20\n",
      "782/782 [==============================] - 2s 3ms/step - loss: 0.4397 - accuracy: 0.8443 - val_loss: 0.3665 - val_accuracy: 0.8659\n",
      "Epoch 6/20\n",
      "782/782 [==============================] - 2s 3ms/step - loss: 0.4117 - accuracy: 0.8542 - val_loss: 0.3401 - val_accuracy: 0.8774\n",
      "Epoch 7/20\n",
      "782/782 [==============================] - 2s 3ms/step - loss: 0.4028 - accuracy: 0.8568 - val_loss: 0.3282 - val_accuracy: 0.8758\n",
      "Epoch 8/20\n",
      "782/782 [==============================] - 2s 3ms/step - loss: 0.3982 - accuracy: 0.8587 - val_loss: 0.3516 - val_accuracy: 0.8667\n",
      "Epoch 9/20\n",
      "782/782 [==============================] - 2s 3ms/step - loss: 0.3870 - accuracy: 0.8608 - val_loss: 0.3476 - val_accuracy: 0.8730\n",
      "Epoch 10/20\n",
      "782/782 [==============================] - 2s 3ms/step - loss: 0.3759 - accuracy: 0.8676 - val_loss: 0.3241 - val_accuracy: 0.8785\n",
      "Epoch 11/20\n",
      "782/782 [==============================] - 2s 3ms/step - loss: 0.3669 - accuracy: 0.8695 - val_loss: 0.3323 - val_accuracy: 0.8773\n",
      "Epoch 12/20\n",
      "782/782 [==============================] - 2s 3ms/step - loss: 0.3708 - accuracy: 0.8681 - val_loss: 0.3167 - val_accuracy: 0.8815\n",
      "Epoch 13/20\n",
      "782/782 [==============================] - 2s 3ms/step - loss: 0.3605 - accuracy: 0.8688 - val_loss: 0.3195 - val_accuracy: 0.8846\n",
      "Epoch 14/20\n",
      "782/782 [==============================] - 2s 3ms/step - loss: 0.3560 - accuracy: 0.8712 - val_loss: 0.3174 - val_accuracy: 0.8780\n",
      "Epoch 15/20\n",
      "782/782 [==============================] - 2s 3ms/step - loss: 0.3538 - accuracy: 0.8713 - val_loss: 0.3101 - val_accuracy: 0.8844\n",
      "Epoch 16/20\n",
      "782/782 [==============================] - 2s 3ms/step - loss: 0.3433 - accuracy: 0.8760 - val_loss: 0.3168 - val_accuracy: 0.8805\n",
      "Epoch 17/20\n",
      "782/782 [==============================] - 2s 3ms/step - loss: 0.3374 - accuracy: 0.8773 - val_loss: 0.3060 - val_accuracy: 0.8876\n",
      "Epoch 18/20\n",
      "782/782 [==============================] - 2s 3ms/step - loss: 0.3355 - accuracy: 0.8811 - val_loss: 0.3108 - val_accuracy: 0.8866\n",
      "Epoch 19/20\n",
      "782/782 [==============================] - 2s 3ms/step - loss: 0.3267 - accuracy: 0.8819 - val_loss: 0.3061 - val_accuracy: 0.8866\n",
      "Epoch 20/20\n",
      "782/782 [==============================] - 2s 3ms/step - loss: 0.3356 - accuracy: 0.8785 - val_loss: 0.3093 - val_accuracy: 0.8849\n"
     ]
    }
   ],
   "source": [
    "val_mlp = mlp.fit(partial_X,partial_y,epochs=20, batch_size=64, validation_data=(val_X, val_y))"
   ]
  },
  {
   "cell_type": "code",
   "execution_count": 63,
   "metadata": {
    "scrolled": false
   },
   "outputs": [
    {
     "data": {
      "text/plain": [
       "<matplotlib.legend.Legend at 0x7f9a0b3e3100>"
      ]
     },
     "execution_count": 63,
     "metadata": {},
     "output_type": "execute_result"
    },
    {
     "data": {
      "image/png": "[encoded data removed]",
      "text/plain": [
       "<Figure size 432x288 with 1 Axes>"
      ]
     },
     "metadata": {
      "needs_background": "light"
     },
     "output_type": "display_data"
    }
   ],
   "source": [
    "validation = val_mlp.history\n",
    "accuracy = validation['accuracy']\n",
    "val_accuracy = validation['val_accuracy']\n",
    "\n",
    "x = np.arange(0,len(accuracy))\n",
    "plt.xlabel(\"Iteration\")\n",
    "plt.ylabel(\"Accuracy\")\n",
    "plt.plot(x,accuracy,'red',label='MLP_train')\n",
    "plt.plot(x,val_accuracy,'salmon',label='MLP_val')\n",
    "plt.legend()"
   ]
  },
  {
   "cell_type": "markdown",
   "metadata": {},
   "source": [
    "##### 그래프 1. MLP 모델에서 x축(트레이닝 횟수)에 따른 train data의 정확도 변화 추이(빨간색) 와 validation data의 정확도 변화 추이(주황색)"
   ]
  },
  {
   "cell_type": "markdown",
   "metadata": {},
   "source": [
    "# CNN(Convolution Neural Network)"
   ]
  },
  {
   "cell_type": "code",
   "execution_count": 64,
   "metadata": {},
   "outputs": [],
   "source": [
    "(X1, y1), (X1_test, y1_test) = fashion_mnist.load_data()"
   ]
  },
  {
   "cell_type": "markdown",
   "metadata": {},
   "source": [
    "##### 데이터 처리"
   ]
  },
  {
   "cell_type": "code",
   "execution_count": 65,
   "metadata": {},
   "outputs": [],
   "source": [
    "X1 = X1.reshape(60000,28,28,1)\n",
    "X1 = X1/255\n",
    "X1_test = X1_test.reshape(10000,28,28,1)\n",
    "X1_test = X1_test/255"
   ]
  },
  {
   "cell_type": "markdown",
   "metadata": {},
   "source": [
    "0~9까지의 정수 데이터 값을 가지는 60000x1 행렬로 표현되어 있는 y를 각 데이터와 일치하게 60000x10로 바꿔준다"
   ]
  },
  {
   "cell_type": "code",
   "execution_count": 66,
   "metadata": {},
   "outputs": [],
   "source": [
    "y1 = to_categorical(y1)\n",
    "y1_test = to_categorical(y1_test)"
   ]
  },
  {
   "cell_type": "markdown",
   "metadata": {},
   "source": [
    "분류 과정에서 train data에 overfitting을 방지할 수 있도록, 60000개의 데이터를 10000개의 검증 데이터와, 50000개의 트레이닝용 데이터로 나눈다"
   ]
  },
  {
   "cell_type": "code",
   "execution_count": 67,
   "metadata": {},
   "outputs": [],
   "source": [
    "val_X1 = X1[:10000]\n",
    "partial_X1 = X1[10000:]\n",
    "val_y1 = y1[:10000]\n",
    "partial_y1 = y1[10000:]"
   ]
  },
  {
   "cell_type": "code",
   "execution_count": 77,
   "metadata": {},
   "outputs": [],
   "source": [
    "cnn = models.Sequential()\n",
    "\n",
    "cnn.add(layers.Conv2D(32,(3,3), activation='relu',input_shape=(28,28,1))) #  3x3형태의 32개 filters을 포함하는 Convolutional layer 형성\n",
    "cnn.add(layers.MaxPooling2D((2,2))) # 2x2filter에서 가장 큰 값만을 추출하여 데이터셋의 크기를 반으로 줄여줌 (계산량 감소 및 Overfitting 방지)\n",
    "cnn.add(layers.Dropout(0.3)) # 30%의 데이터 노드를 꺼줌(계산량 감소 및 Overfitting 방지)\n",
    "cnn.add(layers.Conv2D(64,(3,3), activation='relu'))\n",
    "cnn.add(layers.MaxPooling2D((2,2)))\n",
    "cnn.add(layers.Dropout(0.3))\n",
    "cnn.add(layers.Conv2D(64,(3,3), activation='relu'))\n",
    "cnn.add(layers.Flatten()) # 데이터를 1차원으로 펼쳐줌\n",
    "cnn.add(layers.Dense(512, activation = 'relu'))\n",
    "cnn.add(layers.Dropout(0.5)) \n",
    "cnn.add(layers.Dense(64, activation = 'relu'))\n",
    "cnn.add(layers.Dropout(0.5)) \n",
    "cnn.add(layers.Dense(10, activation = 'softmax'))\n",
    "cnn.compile(loss = 'categorical_crossentropy', optimizer ='nadam', metrics = ['accuracy'])"
   ]
  },
  {
   "cell_type": "code",
   "execution_count": 78,
   "metadata": {
    "scrolled": true
   },
   "outputs": [
    {
     "name": "stdout",
     "output_type": "stream",
     "text": [
      "Epoch 1/20\n",
      "782/782 [==============================] - 23s 28ms/step - loss: 1.1134 - accuracy: 0.5857 - val_loss: 0.4735 - val_accuracy: 0.8194\n",
      "Epoch 2/20\n",
      "782/782 [==============================] - 21s 27ms/step - loss: 0.5242 - accuracy: 0.8041 - val_loss: 0.4134 - val_accuracy: 0.8463\n",
      "Epoch 3/20\n",
      "782/782 [==============================] - 20s 26ms/step - loss: 0.4411 - accuracy: 0.8427 - val_loss: 0.3372 - val_accuracy: 0.8729\n",
      "Epoch 4/20\n",
      "782/782 [==============================] - 23s 29ms/step - loss: 0.3939 - accuracy: 0.8633 - val_loss: 0.3005 - val_accuracy: 0.8915\n",
      "Epoch 5/20\n",
      "782/782 [==============================] - 21s 27ms/step - loss: 0.3633 - accuracy: 0.8734 - val_loss: 0.2824 - val_accuracy: 0.8978\n",
      "Epoch 6/20\n",
      "782/782 [==============================] - 20s 26ms/step - loss: 0.3412 - accuracy: 0.8801 - val_loss: 0.3005 - val_accuracy: 0.8924\n",
      "Epoch 7/20\n",
      "782/782 [==============================] - 20s 26ms/step - loss: 0.3317 - accuracy: 0.8839 - val_loss: 0.2715 - val_accuracy: 0.8986\n",
      "Epoch 8/20\n",
      "782/782 [==============================] - 21s 27ms/step - loss: 0.3198 - accuracy: 0.8882 - val_loss: 0.2681 - val_accuracy: 0.9051\n",
      "Epoch 9/20\n",
      "782/782 [==============================] - 21s 27ms/step - loss: 0.3083 - accuracy: 0.8891 - val_loss: 0.2571 - val_accuracy: 0.9051\n",
      "Epoch 10/20\n",
      "782/782 [==============================] - 21s 26ms/step - loss: 0.3029 - accuracy: 0.8920 - val_loss: 0.2551 - val_accuracy: 0.9074\n",
      "Epoch 11/20\n",
      "782/782 [==============================] - 21s 27ms/step - loss: 0.2955 - accuracy: 0.8942 - val_loss: 0.2521 - val_accuracy: 0.9120\n",
      "Epoch 12/20\n",
      "782/782 [==============================] - 21s 27ms/step - loss: 0.2850 - accuracy: 0.9003 - val_loss: 0.2487 - val_accuracy: 0.9131\n",
      "Epoch 13/20\n",
      "782/782 [==============================] - 21s 27ms/step - loss: 0.2788 - accuracy: 0.9006 - val_loss: 0.2492 - val_accuracy: 0.9075\n",
      "Epoch 14/20\n",
      "782/782 [==============================] - 21s 27ms/step - loss: 0.2778 - accuracy: 0.8990 - val_loss: 0.2366 - val_accuracy: 0.9117\n",
      "Epoch 15/20\n",
      "782/782 [==============================] - 21s 27ms/step - loss: 0.2711 - accuracy: 0.9024 - val_loss: 0.2308 - val_accuracy: 0.9139\n",
      "Epoch 16/20\n",
      "782/782 [==============================] - 21s 27ms/step - loss: 0.2650 - accuracy: 0.9064 - val_loss: 0.2413 - val_accuracy: 0.9149\n",
      "Epoch 17/20\n",
      "782/782 [==============================] - 21s 27ms/step - loss: 0.2601 - accuracy: 0.9057 - val_loss: 0.2341 - val_accuracy: 0.9149\n",
      "Epoch 18/20\n",
      "782/782 [==============================] - 21s 27ms/step - loss: 0.2548 - accuracy: 0.9088 - val_loss: 0.2409 - val_accuracy: 0.9125\n",
      "Epoch 19/20\n",
      "782/782 [==============================] - 21s 27ms/step - loss: 0.2539 - accuracy: 0.9086 - val_loss: 0.2413 - val_accuracy: 0.9147\n",
      "Epoch 20/20\n",
      "782/782 [==============================] - 21s 27ms/step - loss: 0.2504 - accuracy: 0.9093 - val_loss: 0.2305 - val_accuracy: 0.9165\n"
     ]
    }
   ],
   "source": [
    "val_cnn = cnn.fit(partial_X1,partial_y1,epochs=20, batch_size=64, validation_data=(val_X1, val_y1))"
   ]
  },
  {
   "cell_type": "code",
   "execution_count": 83,
   "metadata": {
    "scrolled": false
   },
   "outputs": [
    {
     "data": {
      "text/plain": [
       "<matplotlib.legend.Legend at 0x7f99c6a55fa0>"
      ]
     },
     "execution_count": 83,
     "metadata": {},
     "output_type": "execute_result"
    },
    {
     "data": {
      "image/png": "[encoded data removed]",
      "text/plain": [
       "<Figure size 432x288 with 1 Axes>"
      ]
     },
     "metadata": {
      "needs_background": "light"
     },
     "output_type": "display_data"
    }
   ],
   "source": [
    "validation1 = val_cnn.history\n",
    "accuracy1 = validation1['accuracy']\n",
    "val_accuracy1 = validation1['val_accuracy']\n",
    "\n",
    "x = np.arange(0,len(accuracy))\n",
    "plt.xlabel(\"Iteration\")\n",
    "plt.ylabel(\"Accuracy\")\n",
    "plt.plot(x,accuracy1,'blue',label='CNN_train')\n",
    "plt.plot(x,val_accuracy1,'cornflowerblue',label='CNN_val')\n",
    "plt.legend()"
   ]
  },
  {
   "cell_type": "markdown",
   "metadata": {},
   "source": [
    "##### 그래프 2. CNN 모델에서 x축(트레이닝 횟수)에 따른 train data의 정확도 변화 추이(파란색) 와 validation data의 정확도 변화 추이(하늘색)"
   ]
  },
  {
   "cell_type": "code",
   "execution_count": 85,
   "metadata": {
    "scrolled": false
   },
   "outputs": [
    {
     "data": {
      "text/plain": [
       "<matplotlib.legend.Legend at 0x7f99c70da0a0>"
      ]
     },
     "execution_count": 85,
     "metadata": {},
     "output_type": "execute_result"
    },
    {
     "data": {
      "image/png": "[encoded data removed]",
      "text/plain": [
       "<Figure size 432x288 with 1 Axes>"
      ]
     },
     "metadata": {
      "needs_background": "light"
     },
     "output_type": "display_data"
    }
   ],
   "source": [
    "validation = val_mlp.history\n",
    "accuracy = validation['accuracy']\n",
    "val_accuracy = validation['val_accuracy']\n",
    "\n",
    "validation1 = val_cnn.history\n",
    "accuracy1 = validation1['accuracy']\n",
    "val_accuracy1 = validation1['val_accuracy']\n",
    "\n",
    "\n",
    "x = np.arange(0,len(accuracy))\n",
    "plt.xlabel(\"Iteration\")\n",
    "plt.ylabel(\"Accuracy\")\n",
    "plt.plot(x,accuracy,'red',label= 'MLP_train')\n",
    "plt.plot(x,val_accuracy,'salmon',label='MLP_val')\n",
    "plt.plot(x,accuracy1,'blue',label='CNN_train')\n",
    "plt.plot(x,val_accuracy1,'cornflowerblue',label='CNN_val')\n",
    "plt.legend()"
   ]
  },
  {
   "cell_type": "markdown",
   "metadata": {},
   "source": [
    "##### 그래프 3. MLP, CNN 모델에서 x축(트레이닝 횟수)에 따른 train data와 validation data의 정확도 변화 추이"
   ]
  },
  {
   "cell_type": "code",
   "execution_count": 81,
   "metadata": {
    "scrolled": true
   },
   "outputs": [
    {
     "name": "stdout",
     "output_type": "stream",
     "text": [
      "313/313 [==============================] - 0s 780us/step - loss: 0.3463 - accuracy: 0.8743\n"
     ]
    }
   ],
   "source": [
    "test_loss, test_acc = mlp.evaluate(X_test, y_test)"
   ]
  },
  {
   "cell_type": "code",
   "execution_count": 82,
   "metadata": {
    "scrolled": true
   },
   "outputs": [
    {
     "name": "stdout",
     "output_type": "stream",
     "text": [
      "313/313 [==============================] - 1s 3ms/step - loss: 0.2618 - accuracy: 0.9071\n"
     ]
    }
   ],
   "source": [
    "test1_loss, test1_acc = cnn.evaluate(X1_test, y1_test)"
   ]
  },
  {
   "cell_type": "markdown",
   "metadata": {},
   "source": [
    "||MLP|CNN|\n",
    "|:-----:|:-----:|:-----:|\n",
    "|accuracy|0.8743|0.9071|"
   ]
  },
  {
   "cell_type": "markdown",
   "metadata": {},
   "source": [
    "##### 표 1. MLP, CNN모델의 Test set 예측 정확도"
   ]
  },
  {
   "cell_type": "markdown",
   "metadata": {},
   "source": [
    "## 결론"
   ]
  },
  {
   "cell_type": "markdown",
   "metadata": {},
   "source": [
    "- Mnist Fashion 데이터셋을 MLP(Multi-Layer Perceptron)과 CNN(Convolution Neural Network)을 통해 인공 신경망을 구성하였다.\n",
    "- CNN 모델의 정확도가 MLP 모델의 정확도보다 높게 도출되었다.\n",
    "- 형태를 구분하는 분류에서 Convolution Layer을 포함하는 것이 모델의 정확도 향상에 도움이 되는 것을 확인할 수 있다.\n"
   ]
  }
 ],
 "metadata": {
  "kernelspec": {
   "display_name": "Python 3",
   "language": "python",
   "name": "python3"
  },
  "language_info": {
   "codemirror_mode": {
    "name": "ipython",
    "version": 3
   },
   "file_extension": ".py",
   "mimetype": "text/x-python",
   "name": "python",
   "nbconvert_exporter": "python",
   "pygments_lexer": "ipython3",
   "version": "3.8.3"
  }
 },
 "nbformat": 4,
 "nbformat_minor": 4
}
