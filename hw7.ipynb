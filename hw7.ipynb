{
 "cells": [
  {
   "cell_type": "code",
   "execution_count": 69,
   "metadata": {},
   "outputs": [],
   "source": [
    "from keras.datasets import mnist\n",
    "from tensorflow import keras\n",
    "from keras import models, layers\n",
    "import numpy as np\n",
    "import matplotlib.pyplot as plt\n",
    "from keras.utils import to_categorical\n",
    "from sklearn.model_selection import cross_val_score"
   ]
  },
  {
   "cell_type": "code",
   "execution_count": 70,
   "metadata": {},
   "outputs": [],
   "source": [
    "(X,y), (X_test,y_test) = mnist.load_data()"
   ]
  },
  {
   "cell_type": "code",
   "execution_count": 71,
   "metadata": {
    "scrolled": true
   },
   "outputs": [
    {
     "name": "stdout",
     "output_type": "stream",
     "text": [
      "(60000, 28, 28) (60000,) (10000, 28, 28) (10000,)\n"
     ]
    }
   ],
   "source": [
    "print(X.shape, y.shape,X_test.shape,y_test.shape)"
   ]
  },
  {
   "cell_type": "code",
   "execution_count": 72,
   "metadata": {
    "scrolled": true
   },
   "outputs": [
    {
     "data": {
      "text/plain": [
       "<matplotlib.image.AxesImage at 0x7ff1ebbc43d0>"
      ]
     },
     "execution_count": 72,
     "metadata": {},
     "output_type": "execute_result"
    },
    {
     "data": {
      "image/png": "[encoded data removed]",
      "text/plain": [
       "<Figure size 432x288 with 1 Axes>"
      ]
     },
     "metadata": {
      "needs_background": "light"
     },
     "output_type": "display_data"
    }
   ],
   "source": [
    "plt.imshow(X[0])"
   ]
  },
  {
   "cell_type": "markdown",
   "metadata": {},
   "source": [
    "##### 각 그림은 28x28 에 해당하는 픽셀로 표현되고, main set은 60000개, test set 은 10000개의 데이터를 가지고 있다. "
   ]
  },
  {
   "cell_type": "markdown",
   "metadata": {},
   "source": [
    "# Softmax Regression"
   ]
  },
  {
   "cell_type": "markdown",
   "metadata": {},
   "source": [
    "##### Data processing"
   ]
  },
  {
   "cell_type": "markdown",
   "metadata": {},
   "source": [
    "28x28x60000 행렬로 표현되어있는 데이터를 784x60000인 2차원 행렬로 변환시켜주고, 255로나눠서 데이터 범위를 0~1로 설정한다."
   ]
  },
  {
   "cell_type": "code",
   "execution_count": 73,
   "metadata": {},
   "outputs": [],
   "source": [
    "X_smx = X.reshape(60000,28*28)\n",
    "X_smx = X_smx/255\n",
    "X_smx_test = X_test.reshape(10000,28*28)\n",
    "X_smx_test = X_smx_test/255"
   ]
  },
  {
   "cell_type": "markdown",
   "metadata": {},
   "source": [
    "0~9까지의 정수 데이터 값을 가지는 60000x1 행렬로 표현되어 있는 y를 각 데이터와 일치하게 60000x10로 바꿔준다 (Softmax 분석을 위한 필수과정)"
   ]
  },
  {
   "cell_type": "code",
   "execution_count": 74,
   "metadata": {},
   "outputs": [],
   "source": [
    "y_smx= to_categorical(y)\n",
    "y_smx_test = to_categorical(y_test)"
   ]
  },
  {
   "cell_type": "markdown",
   "metadata": {},
   "source": [
    "##### Regression"
   ]
  },
  {
   "cell_type": "code",
   "execution_count": 75,
   "metadata": {},
   "outputs": [],
   "source": [
    "smx = models.Sequential()\n",
    "smx.add(layers.Dense(10, activation = 'softmax',input_shape=(28*28,)))\n",
    "smx.compile(loss = 'categorical_crossentropy', optimizer ='adam', metrics = ['accuracy'])"
   ]
  },
  {
   "cell_type": "code",
   "execution_count": 76,
   "metadata": {},
   "outputs": [
    {
     "name": "stdout",
     "output_type": "stream",
     "text": [
      "Epoch 1/30\n",
      "1875/1875 [==============================] - 1s 576us/step - loss: 0.7251 - accuracy: 0.8113\n",
      "Epoch 2/30\n",
      "1875/1875 [==============================] - 1s 554us/step - loss: 0.3071 - accuracy: 0.9146\n",
      "Epoch 3/30\n",
      "1875/1875 [==============================] - 1s 535us/step - loss: 0.2845 - accuracy: 0.9206\n",
      "Epoch 4/30\n",
      "1875/1875 [==============================] - 1s 551us/step - loss: 0.2750 - accuracy: 0.9235\n",
      "Epoch 5/30\n",
      "1875/1875 [==============================] - 1s 575us/step - loss: 0.2582 - accuracy: 0.9270\n",
      "Epoch 6/30\n",
      "1875/1875 [==============================] - 1s 547us/step - loss: 0.2623 - accuracy: 0.9275\n",
      "Epoch 7/30\n",
      "1875/1875 [==============================] - 1s 537us/step - loss: 0.2561 - accuracy: 0.9287\n",
      "Epoch 8/30\n",
      "1875/1875 [==============================] - 1s 540us/step - loss: 0.2518 - accuracy: 0.9299\n",
      "Epoch 9/30\n",
      "1875/1875 [==============================] - 1s 538us/step - loss: 0.2523 - accuracy: 0.9290\n",
      "Epoch 10/30\n",
      "1875/1875 [==============================] - 1s 537us/step - loss: 0.2554 - accuracy: 0.9300\n",
      "Epoch 11/30\n",
      "1875/1875 [==============================] - 1s 535us/step - loss: 0.2432 - accuracy: 0.9325\n",
      "Epoch 12/30\n",
      "1875/1875 [==============================] - 1s 564us/step - loss: 0.2395 - accuracy: 0.9336\n",
      "Epoch 13/30\n",
      "1875/1875 [==============================] - 1s 538us/step - loss: 0.2507 - accuracy: 0.9313\n",
      "Epoch 14/30\n",
      "1875/1875 [==============================] - 1s 578us/step - loss: 0.2408 - accuracy: 0.9321\n",
      "Epoch 15/30\n",
      "1875/1875 [==============================] - 1s 533us/step - loss: 0.2423 - accuracy: 0.9339\n",
      "Epoch 16/30\n",
      "1875/1875 [==============================] - 1s 547us/step - loss: 0.2416 - accuracy: 0.9327\n",
      "Epoch 17/30\n",
      "1875/1875 [==============================] - 1s 554us/step - loss: 0.2406 - accuracy: 0.9347\n",
      "Epoch 18/30\n",
      "1875/1875 [==============================] - 1s 554us/step - loss: 0.2412 - accuracy: 0.9344\n",
      "Epoch 19/30\n",
      "1875/1875 [==============================] - 1s 552us/step - loss: 0.2428 - accuracy: 0.9339\n",
      "Epoch 20/30\n",
      "1875/1875 [==============================] - 1s 549us/step - loss: 0.2348 - accuracy: 0.9356\n",
      "Epoch 21/30\n",
      "1875/1875 [==============================] - 1s 549us/step - loss: 0.2364 - accuracy: 0.9340\n",
      "Epoch 22/30\n",
      "1875/1875 [==============================] - 1s 558us/step - loss: 0.2345 - accuracy: 0.9355\n",
      "Epoch 23/30\n",
      "1875/1875 [==============================] - 1s 562us/step - loss: 0.2327 - accuracy: 0.9354\n",
      "Epoch 24/30\n",
      "1875/1875 [==============================] - 1s 559us/step - loss: 0.2355 - accuracy: 0.9344\n",
      "Epoch 25/30\n",
      "1875/1875 [==============================] - 1s 554us/step - loss: 0.2326 - accuracy: 0.9355\n",
      "Epoch 26/30\n",
      "1875/1875 [==============================] - 1s 554us/step - loss: 0.2333 - accuracy: 0.9341\n",
      "Epoch 27/30\n",
      "1875/1875 [==============================] - 1s 578us/step - loss: 0.2346 - accuracy: 0.9358\n",
      "Epoch 28/30\n",
      "1875/1875 [==============================] - 1s 565us/step - loss: 0.2330 - accuracy: 0.9349\n",
      "Epoch 29/30\n",
      "1875/1875 [==============================] - 1s 570us/step - loss: 0.2317 - accuracy: 0.9365\n",
      "Epoch 30/30\n",
      "1875/1875 [==============================] - 1s 550us/step - loss: 0.2298 - accuracy: 0.9345\n"
     ]
    },
    {
     "data": {
      "text/plain": [
       "<tensorflow.python.keras.callbacks.History at 0x7ff208067730>"
      ]
     },
     "execution_count": 76,
     "metadata": {},
     "output_type": "execute_result"
    }
   ],
   "source": [
    "smx.fit(X_smx,y_smx,epochs=30)"
   ]
  },
  {
   "cell_type": "code",
   "execution_count": 77,
   "metadata": {},
   "outputs": [
    {
     "name": "stdout",
     "output_type": "stream",
     "text": [
      "1875/1875 - 1s - loss: 0.2287 - accuracy: 0.9364\n"
     ]
    }
   ],
   "source": [
    "test_loss, test_acc = smx.evaluate(X_smx,  y_smx, verbose=2)"
   ]
  },
  {
   "cell_type": "code",
   "execution_count": 78,
   "metadata": {},
   "outputs": [
    {
     "name": "stdout",
     "output_type": "stream",
     "text": [
      "accuracy(Softmax) : 0.9364333152770996\n"
     ]
    }
   ],
   "source": [
    "print('accuracy(Softmax) :', test_acc)"
   ]
  },
  {
   "cell_type": "markdown",
   "metadata": {},
   "source": [
    "### Softmax 방법을 통한 정확도는 대략 94% 이다."
   ]
  },
  {
   "cell_type": "markdown",
   "metadata": {},
   "source": [
    "# Support Vector Machine(SVM)"
   ]
  },
  {
   "cell_type": "code",
   "execution_count": 79,
   "metadata": {},
   "outputs": [],
   "source": [
    "from sklearn.svm import SVC, LinearSVC\n",
    "from sklearn.metrics import accuracy_score"
   ]
  },
  {
   "cell_type": "markdown",
   "metadata": {},
   "source": [
    "##### Data processing"
   ]
  },
  {
   "cell_type": "markdown",
   "metadata": {},
   "source": [
    "28*28개의 features를 가진 상태에서 SVM 학습을 시켜준다. 이 때  SVM은 특히 Features의 scales에 민감하므로, 255로 나눠, 데이터 범위를 0~1로 설정한다"
   ]
  },
  {
   "cell_type": "code",
   "execution_count": 80,
   "metadata": {},
   "outputs": [],
   "source": [
    "X_svm = X.reshape(60000,28*28)\n",
    "X_svm = X_smx/255\n",
    "X_svm_test = X_test.reshape(10000,28*28)\n",
    "X_svm_test = X_smx_test/255"
   ]
  },
  {
   "cell_type": "markdown",
   "metadata": {},
   "source": [
    "##### Regression"
   ]
  },
  {
   "cell_type": "code",
   "execution_count": 81,
   "metadata": {
    "scrolled": true
   },
   "outputs": [
    {
     "data": {
      "text/plain": [
       "LinearSVC()"
      ]
     },
     "execution_count": 81,
     "metadata": {},
     "output_type": "execute_result"
    }
   ],
   "source": [
    "svm = LinearSVC()\n",
    "svm.fit(X_svm,y)"
   ]
  },
  {
   "cell_type": "code",
   "execution_count": 82,
   "metadata": {
    "scrolled": false
   },
   "outputs": [
    {
     "data": {
      "text/plain": [
       "array([0.8269 , 0.82675, 0.8396 ])"
      ]
     },
     "execution_count": 82,
     "metadata": {},
     "output_type": "execute_result"
    }
   ],
   "source": [
    "cross_val_score(svm, X_svm, y, cv=3, scoring=\"accuracy\")"
   ]
  },
  {
   "cell_type": "markdown",
   "metadata": {},
   "source": [
    "### Support Vector Machine 을 통해 분석한 후 교차검증을 통한 정확도는 대략 83%이다."
   ]
  },
  {
   "cell_type": "markdown",
   "metadata": {},
   "source": [
    "# Random Forest Classifier(RFC)"
   ]
  },
  {
   "cell_type": "code",
   "execution_count": 83,
   "metadata": {},
   "outputs": [],
   "source": [
    "from sklearn.ensemble import RandomForestClassifier"
   ]
  },
  {
   "cell_type": "markdown",
   "metadata": {},
   "source": [
    "##### Data processing"
   ]
  },
  {
   "cell_type": "markdown",
   "metadata": {},
   "source": [
    "RFC는 features의 scales에 민감하지 않으므로, 데이터의 형태만 변경해준다. "
   ]
  },
  {
   "cell_type": "code",
   "execution_count": 84,
   "metadata": {},
   "outputs": [],
   "source": [
    "X_rfc = X.reshape(60000,28*28)\n",
    "X_rfc_test = X_test.reshape(10000,28*28)"
   ]
  },
  {
   "cell_type": "markdown",
   "metadata": {},
   "source": [
    "##### Regression"
   ]
  },
  {
   "cell_type": "code",
   "execution_count": 85,
   "metadata": {
    "scrolled": true
   },
   "outputs": [
    {
     "data": {
      "text/plain": [
       "RandomForestClassifier()"
      ]
     },
     "execution_count": 85,
     "metadata": {},
     "output_type": "execute_result"
    }
   ],
   "source": [
    "rfc = RandomForestClassifier()\n",
    "rfc.fit(X_rfc,y)"
   ]
  },
  {
   "cell_type": "code",
   "execution_count": 86,
   "metadata": {},
   "outputs": [
    {
     "data": {
      "text/plain": [
       "array([0.96475, 0.9635 , 0.96635])"
      ]
     },
     "execution_count": 86,
     "metadata": {},
     "output_type": "execute_result"
    }
   ],
   "source": [
    "cross_val_score(rfc, X_rfc, y, cv=3, scoring=\"accuracy\")"
   ]
  },
  {
   "cell_type": "markdown",
   "metadata": {},
   "source": [
    "### Random Forest Classifier방법을 통한 정확도는 대략 96%이다."
   ]
  },
  {
   "cell_type": "markdown",
   "metadata": {},
   "source": [
    "## Test set에 대한 정확도 분석 "
   ]
  },
  {
   "cell_type": "markdown",
   "metadata": {},
   "source": [
    "#### SMX"
   ]
  },
  {
   "cell_type": "code",
   "execution_count": 107,
   "metadata": {},
   "outputs": [],
   "source": [
    "y_smx_pred_raw = smx.predict(X_smx_test)"
   ]
  },
  {
   "cell_type": "code",
   "execution_count": 109,
   "metadata": {},
   "outputs": [],
   "source": [
    "y_smx_pred = []\n",
    "for i in range (len(y_smx_pred_raw)):\n",
    "    y_smx_pred.append(np.argmax(y_smx_pred_raw[i]))"
   ]
  },
  {
   "cell_type": "code",
   "execution_count": 110,
   "metadata": {
    "scrolled": true
   },
   "outputs": [
    {
     "data": {
      "text/plain": [
       "0.9264"
      ]
     },
     "execution_count": 110,
     "metadata": {},
     "output_type": "execute_result"
    }
   ],
   "source": [
    "accuracy_score(y_smx_pred,y_test)"
   ]
  },
  {
   "cell_type": "markdown",
   "metadata": {},
   "source": [
    "#### SVM"
   ]
  },
  {
   "cell_type": "code",
   "execution_count": 87,
   "metadata": {},
   "outputs": [],
   "source": [
    "y_svm_pred = svm.predict(X_svm_test)"
   ]
  },
  {
   "cell_type": "code",
   "execution_count": 88,
   "metadata": {
    "scrolled": true
   },
   "outputs": [
    {
     "data": {
      "text/plain": [
       "0.853"
      ]
     },
     "execution_count": 88,
     "metadata": {},
     "output_type": "execute_result"
    }
   ],
   "source": [
    "accuracy_score(y_svm_pred,y_test)"
   ]
  },
  {
   "cell_type": "markdown",
   "metadata": {},
   "source": [
    "#### RFC "
   ]
  },
  {
   "cell_type": "code",
   "execution_count": 89,
   "metadata": {},
   "outputs": [],
   "source": [
    "y_rfc_pred = rfc.predict(X_rfc_test)"
   ]
  },
  {
   "cell_type": "code",
   "execution_count": 106,
   "metadata": {
    "scrolled": false
   },
   "outputs": [
    {
     "data": {
      "text/plain": [
       "0.969"
      ]
     },
     "execution_count": 106,
     "metadata": {},
     "output_type": "execute_result"
    }
   ],
   "source": [
    "accuracy_score(y_rfc_pred,y_test)"
   ]
  },
  {
   "cell_type": "markdown",
   "metadata": {},
   "source": [
    "|accuracy(%)|Train set|Test set|\n",
    "|:------:|:---:|:---:|\n",
    "|Softmax|94|93|\n",
    "|Support Vector Machine|85|83|\n",
    "|RandomForest Classifier|97|96|"
   ]
  },
  {
   "cell_type": "markdown",
   "metadata": {},
   "source": [
    "## 결론"
   ]
  },
  {
   "cell_type": "markdown",
   "metadata": {},
   "source": [
    "- RandomForest Classifier > Softmax > Support Vector Machine 순서대로 높은 정확성을 보인다. \n",
    "- Test set의 크기(10000개)가 충분히 큰 만큼 Train set과의 정확도 차이는 크지 않은 것을 확인할 수 있다.\n",
    "- SVC는 features의 종류가 너무 많을 경우, 소요시간이 너무 오래걸린다(1:1대응을 하려고 하기 때문), 이 때 선형 SVC를 이용하여 시간을 줄일 수 있다."
   ]
  },
  {
   "cell_type": "code",
   "execution_count": null,
   "metadata": {},
   "outputs": [],
   "source": []
  }
 ],
 "metadata": {
  "kernelspec": {
   "display_name": "Python 3",
   "language": "python",
   "name": "python3"
  },
  "language_info": {
   "codemirror_mode": {
    "name": "ipython",
    "version": 3
   },
   "file_extension": ".py",
   "mimetype": "text/x-python",
   "name": "python",
   "nbconvert_exporter": "python",
   "pygments_lexer": "ipython3",
   "version": "3.8.3"
  }
 },
 "nbformat": 4,
 "nbformat_minor": 4
}
